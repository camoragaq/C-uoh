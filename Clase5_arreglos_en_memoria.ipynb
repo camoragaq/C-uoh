{
  "nbformat": 4,
  "nbformat_minor": 0,
  "metadata": {
    "colab": {
      "provenance": [],
      "collapsed_sections": [],
      "authorship_tag": "ABX9TyPXGG3iiA5gxqIeREcHDFiV",
      "include_colab_link": true
    },
    "kernelspec": {
      "name": "python3",
      "display_name": "Python 3"
    },
    "language_info": {
      "name": "python"
    }
  },
  "cells": [
    {
      "cell_type": "markdown",
      "metadata": {
        "id": "view-in-github",
        "colab_type": "text"
      },
      "source": [
        "<a href=\"https://colab.research.google.com/github/camoragaq/C-uoh/blob/main/Clase5_arreglos_en_memoria.ipynb\" target=\"_parent\"><img src=\"https://colab.research.google.com/assets/colab-badge.svg\" alt=\"Open In Colab\"/></a>"
      ]
    },
    {
      "cell_type": "markdown",
      "source": [
        "#Clase 5: Arreglos en memoria"
      ],
      "metadata": {
        "id": "B6aK3QVZ35ra"
      }
    },
    {
      "cell_type": "markdown",
      "source": [
        "## Variables globales "
      ],
      "metadata": {
        "id": "D5rD5kB_4FoA"
      }
    },
    {
      "cell_type": "markdown",
      "source": [
        "1. No se pueden asignar un espacio de memoria en una variable global que ya fue creada y asignada."
      ],
      "metadata": {
        "id": "uw8LnUNm4TVg"
      }
    },
    {
      "cell_type": "code",
      "execution_count": 8,
      "metadata": {
        "colab": {
          "base_uri": "https://localhost:8080/"
        },
        "id": "2wC7992L3yZj",
        "outputId": "421c1e33-0555-4f71-8cf5-cc39010aa53b"
      },
      "outputs": [
        {
          "output_type": "stream",
          "name": "stdout",
          "text": [
            "Overwriting arreglo.c\n"
          ]
        }
      ],
      "source": [
        "%%writefile arreglo.c\n",
        "\n",
        "#include <stdio.h>\n",
        "\n",
        "int a[4]={2,4,6,8};\n",
        "\n",
        "int main(){\n",
        "  a[0]= 2;\n",
        "  a = malloc(10*sizeof(int));\n",
        "}"
      ]
    },
    {
      "cell_type": "code",
      "source": [
        "%%script bash\n",
        "\n",
        "gcc arreglo.c -o arreglo"
      ],
      "metadata": {
        "id": "mwD8XS5X4uRs"
      },
      "execution_count": 6,
      "outputs": []
    },
    {
      "cell_type": "code",
      "source": [
        "!./arreglo"
      ],
      "metadata": {
        "id": "z6p3lki74xsu"
      },
      "execution_count": 7,
      "outputs": []
    },
    {
      "cell_type": "markdown",
      "source": [
        "Arreglos de char"
      ],
      "metadata": {
        "id": "21zCXz1aC1V5"
      }
    },
    {
      "cell_type": "code",
      "source": [
        "%%writefile char.c\n",
        "\n",
        "#include <stdio.h>\n",
        "\n",
        "\n",
        "char a[5]=\"hola\";\n",
        "\n",
        "int main(){\n",
        "    char b[]=\"hola\";\n",
        "    char c[]={'h','o','l','a',0};\n",
        "\n",
        "    a[0]='H';\n",
        "    b[3]='A';\n",
        "\n",
        "    printf(\"String a: %s\\n\", a);\n",
        "    printf(\"String b: %s\\n\", b);\n",
        "    printf(\"String c: %s\\n\", c);\n",
        "}"
      ],
      "metadata": {
        "colab": {
          "base_uri": "https://localhost:8080/"
        },
        "id": "MjWBVP1aC4Gb",
        "outputId": "2ae554cf-b3ca-47c0-f34e-9f6e00f5ffa8"
      },
      "execution_count": 17,
      "outputs": [
        {
          "output_type": "stream",
          "name": "stdout",
          "text": [
            "Writing char.c\n"
          ]
        }
      ]
    },
    {
      "cell_type": "code",
      "source": [
        "%%script bash\n",
        "\n",
        "gcc char.c -o char"
      ],
      "metadata": {
        "id": "OuB0NaPYDifj"
      },
      "execution_count": 18,
      "outputs": []
    },
    {
      "cell_type": "code",
      "source": [
        "!./char"
      ],
      "metadata": {
        "colab": {
          "base_uri": "https://localhost:8080/"
        },
        "id": "CnDOk3JHDl2U",
        "outputId": "e9ae0e88-6093-461c-9476-2f0430e960a5"
      },
      "execution_count": 19,
      "outputs": [
        {
          "output_type": "stream",
          "name": "stdout",
          "text": [
            "String a: Hola\n",
            "String b: holA\n",
            "String c: hola\n"
          ]
        }
      ]
    },
    {
      "cell_type": "markdown",
      "source": [
        "Strings -> punteros a char"
      ],
      "metadata": {
        "id": "GzYtyiWxEnkR"
      }
    },
    {
      "cell_type": "code",
      "source": [
        "%%writefile string.c\n",
        "\n",
        "#include <stdio.h>\n",
        "\n",
        "char *a= \"hola\";\n",
        "\n",
        "void f(){\n",
        "  char *q=\"hola\";\n",
        "  printf(\"Dirección almacenada en puntero q: %p\\n\", (void *)q);\n",
        "}\n",
        "\n",
        "int main(){\n",
        "  printf(\"Dirección almacenada en puntero a: %p\\n\", (void *)a);\n",
        "  char *s=\"chao\";\n",
        "  char *p=\"carol\";\n",
        "\n",
        "  printf(\"Dirección almacenada en puntero s: %p\\n\", (void *)s);\n",
        "  printf(\"Dirección almacenada en puntero p: %p\\n\", (void *)p);\n",
        "  f();\n",
        "\n",
        "  return 0;\n",
        "}\n",
        "  "
      ],
      "metadata": {
        "colab": {
          "base_uri": "https://localhost:8080/"
        },
        "id": "cgGwzHc2Epj7",
        "outputId": "2393af60-ca3c-4143-e6ea-8efa34a17e68"
      },
      "execution_count": 22,
      "outputs": [
        {
          "output_type": "stream",
          "name": "stdout",
          "text": [
            "Overwriting string.c\n"
          ]
        }
      ]
    },
    {
      "cell_type": "code",
      "source": [
        "%%script bash\n",
        "\n",
        "gcc string.c -o string"
      ],
      "metadata": {
        "id": "o42MpQrAFpws"
      },
      "execution_count": 23,
      "outputs": []
    },
    {
      "cell_type": "code",
      "source": [
        "!./string"
      ],
      "metadata": {
        "colab": {
          "base_uri": "https://localhost:8080/"
        },
        "id": "bEWsWSylFwXz",
        "outputId": "ec7acfea-988c-4791-ffd6-fba8189e5b7b"
      },
      "execution_count": 24,
      "outputs": [
        {
          "output_type": "stream",
          "name": "stdout",
          "text": [
            "Dirección almacenada en puntero a: 0x561b6ac00798\n",
            "Dirección almacenada en puntero s: 0x561b6ac007f0\n",
            "Dirección almacenada en puntero p: 0x561b6ac007f5\n",
            "Dirección almacenada en puntero q: 0x561b6ac00798\n"
          ]
        }
      ]
    }
  ]
}