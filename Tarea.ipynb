{
  "nbformat": 4,
  "nbformat_minor": 0,
  "metadata": {
    "colab": {
      "provenance": [],
      "collapsed_sections": [],
      "authorship_tag": "ABX9TyPx5YGaa3N7Q9E3SQz2tIGU",
      "include_colab_link": true
    },
    "kernelspec": {
      "name": "python3",
      "display_name": "Python 3"
    },
    "language_info": {
      "name": "python"
    }
  },
  "cells": [
    {
      "cell_type": "markdown",
      "metadata": {
        "id": "view-in-github",
        "colab_type": "text"
      },
      "source": [
        "<a href=\"https://colab.research.google.com/github/camoragaq/C-uoh/blob/main/Tarea.ipynb\" target=\"_parent\"><img src=\"https://colab.research.google.com/assets/colab-badge.svg\" alt=\"Open In Colab\"/></a>"
      ]
    },
    {
      "cell_type": "markdown",
      "source": [
        "#Ejercicio propuesto de Strings"
      ],
      "metadata": {
        "id": "q6kji8_cibMi"
      }
    },
    {
      "cell_type": "markdown",
      "source": [
        "Deberá crear un arreglo para almacenar los nombres de los alumnos del curso de Programación de Software de Sistemas cumpliendo las siguientes reglas:\n",
        "1. Deberá tener el registro de al menos 10 alumnos, incluyendo nombre y apellido separado por doble guión \"--\".\n",
        "2. Su nombre deberá estar en la lista, y al menos un alumno más con el mismo nombre o apellido.\n",
        "3. Los nombres serán almacenados con letra minúscula.\n",
        "\n",
        "Usando arreglos de char, punteros, loop y lo que necesite, deberá recorrer el arreglo, buscar su nombre e imprimirlo con la primera letra en mayuscula.\n",
        "\n",
        "A programar!!"
      ],
      "metadata": {
        "id": "EMgDYX8sigQm"
      }
    },
    {
      "cell_type": "code",
      "execution_count": null,
      "metadata": {
        "id": "3cDfYgMmiamM"
      },
      "outputs": [],
      "source": [
        "%%writefile tarea.c\n",
        "\n",
        "#include <stdio.h>\n",
        "\n"
      ]
    }
  ]
}