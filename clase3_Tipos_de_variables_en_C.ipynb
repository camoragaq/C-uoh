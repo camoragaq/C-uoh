{
  "nbformat": 4,
  "nbformat_minor": 0,
  "metadata": {
    "colab": {
      "provenance": [],
      "collapsed_sections": [],
      "authorship_tag": "ABX9TyPv1vBHl00zobcZ2HKFHchr",
      "include_colab_link": true
    },
    "kernelspec": {
      "name": "python3",
      "display_name": "Python 3"
    },
    "language_info": {
      "name": "python"
    }
  },
  "cells": [
    {
      "cell_type": "markdown",
      "metadata": {
        "id": "view-in-github",
        "colab_type": "text"
      },
      "source": [
        "<a href=\"https://colab.research.google.com/github/camoragaq/C-uoh/blob/main/clase3_Tipos_de_variables_en_C.ipynb\" target=\"_parent\"><img src=\"https://colab.research.google.com/assets/colab-badge.svg\" alt=\"Open In Colab\"/></a>"
      ]
    },
    {
      "cell_type": "markdown",
      "source": [
        "#Clase 3: 5 de Septiembre de 2022, Tipos de variables en C"
      ],
      "metadata": {
        "id": "OMC3_wasJYca"
      }
    },
    {
      "cell_type": "markdown",
      "source": [
        "Ejemplo variables tipo Globales, si no se declara el valor por defecto es 0:"
      ],
      "metadata": {
        "id": "AflIY3gJKgcu"
      }
    },
    {
      "cell_type": "code",
      "source": [
        "%%writefile global.c\n",
        "\n",
        "#include <stdio.h>\n",
        "\n",
        "int a;\n",
        "int b = 200;\n",
        "\n",
        "int main(){\n",
        "  printf(\"Valor inicial de a: %d\\n\",a);\n",
        "  printf(\"Valor inicial de b: %d\\n\",b);\n",
        "\n",
        "  a+=1;\n",
        "  printf(\"Valor final de a:%d\\n\", a);\n",
        "\n",
        "  return 0;\n",
        "}"
      ],
      "metadata": {
        "colab": {
          "base_uri": "https://localhost:8080/"
        },
        "id": "anmIoyarKfzB",
        "outputId": "09400e08-c3b8-4676-8376-a46c385d4bab"
      },
      "execution_count": 6,
      "outputs": [
        {
          "output_type": "stream",
          "name": "stdout",
          "text": [
            "Overwriting global.c\n"
          ]
        }
      ]
    },
    {
      "cell_type": "code",
      "source": [
        "%%script bash\n",
        "\n",
        "gcc global.c -o global"
      ],
      "metadata": {
        "id": "4FTbWs5DS_Ev"
      },
      "execution_count": 7,
      "outputs": []
    },
    {
      "cell_type": "code",
      "source": [
        "!./global"
      ],
      "metadata": {
        "colab": {
          "base_uri": "https://localhost:8080/"
        },
        "id": "Vbf_yGzgTJoK",
        "outputId": "2fd126df-2693-4e3a-fe75-e38445630fef"
      },
      "execution_count": 8,
      "outputs": [
        {
          "output_type": "stream",
          "name": "stdout",
          "text": [
            "Valor inicial de a: 0\n",
            "Valor inicial de b: 200\n",
            "Valor final de a:1\n"
          ]
        }
      ]
    },
    {
      "cell_type": "markdown",
      "source": [
        "Ejemplo variables de tipo local: identifique cual es la variable local?"
      ],
      "metadata": {
        "id": "ZqqRral-VH9G"
      }
    },
    {
      "cell_type": "code",
      "source": [
        "%%writefile locales.c\n",
        "\n",
        "#include <stdio.h>\n",
        "\n",
        "double factorial(int n){\n",
        "  double p= 1.0;\n",
        "  while (n>1){\n",
        "    p*= n;\n",
        "    n--;\n",
        "  }\n",
        "  return p;\n",
        "}\n",
        "\n",
        "int main(){\n",
        "    printf(\"Factorial de 5:%lf\\n\", factorial(5));\n",
        "    return 0;\n",
        "\n",
        "}"
      ],
      "metadata": {
        "colab": {
          "base_uri": "https://localhost:8080/"
        },
        "id": "dV4juM-0VNH2",
        "outputId": "0b0ff4a0-1f17-44d9-c019-d516d52edbbc"
      },
      "execution_count": 9,
      "outputs": [
        {
          "output_type": "stream",
          "name": "stdout",
          "text": [
            "Writing locales.c\n"
          ]
        }
      ]
    },
    {
      "cell_type": "code",
      "source": [
        "%%script bash\n",
        "\n",
        "gcc locales.c -o local"
      ],
      "metadata": {
        "id": "kDbLrd6YVxln"
      },
      "execution_count": 10,
      "outputs": []
    },
    {
      "cell_type": "code",
      "source": [
        "!./local"
      ],
      "metadata": {
        "colab": {
          "base_uri": "https://localhost:8080/"
        },
        "id": "yPvw0-bHVxF9",
        "outputId": "6f6d42cb-c935-4cf5-e64f-d637e36aa7f6"
      },
      "execution_count": 11,
      "outputs": [
        {
          "output_type": "stream",
          "name": "stdout",
          "text": [
            "Factorial de 5:120.000000\n"
          ]
        }
      ]
    }
  ]
}