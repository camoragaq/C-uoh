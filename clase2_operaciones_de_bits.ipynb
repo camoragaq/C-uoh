{
  "nbformat": 4,
  "nbformat_minor": 0,
  "metadata": {
    "colab": {
      "provenance": [],
      "collapsed_sections": [],
      "authorship_tag": "ABX9TyOXaYV2M3UtciEfkcMKTSVa",
      "include_colab_link": true
    },
    "kernelspec": {
      "name": "python3",
      "display_name": "Python 3"
    },
    "language_info": {
      "name": "python"
    }
  },
  "cells": [
    {
      "cell_type": "markdown",
      "metadata": {
        "id": "view-in-github",
        "colab_type": "text"
      },
      "source": [
        "<a href=\"https://colab.research.google.com/github/camoragaq/C-uoh/blob/main/clase2_operaciones_de_bits.ipynb\" target=\"_parent\"><img src=\"https://colab.research.google.com/assets/colab-badge.svg\" alt=\"Open In Colab\"/></a>"
      ]
    },
    {
      "cell_type": "markdown",
      "source": [
        "#Clase 2: 1 de Septiembre de 2022, Operaciones de bits"
      ],
      "metadata": {
        "id": "ewfXOJlRWOM8"
      }
    },
    {
      "cell_type": "markdown",
      "source": [
        "1. Ejemplo de desplazamiento a la derecha (Right shift)"
      ],
      "metadata": {
        "id": "QX2l_n7EWaSz"
      }
    },
    {
      "cell_type": "code",
      "source": [
        "%%writefile ejemplo1.c\n",
        "\n",
        "#include <stdio.h>\n",
        "\n",
        "int main()\n",
        "{\n",
        "  \n",
        "  int a=-10;\n",
        "  printf(\"%d\\n\",a>>1);\n",
        "\n",
        "}"
      ],
      "metadata": {
        "colab": {
          "base_uri": "https://localhost:8080/"
        },
        "id": "adR4bH8SWjE8",
        "outputId": "6284c506-8816-49b4-ce33-7b436710a840"
      },
      "execution_count": 36,
      "outputs": [
        {
          "output_type": "stream",
          "name": "stdout",
          "text": [
            "Overwriting ejemplo1.c\n"
          ]
        }
      ]
    },
    {
      "cell_type": "code",
      "source": [
        "%%script bash\n",
        "\n",
        "gcc ejemplo1.c -o ejem1"
      ],
      "metadata": {
        "id": "zEiBwk_qW57C"
      },
      "execution_count": 37,
      "outputs": []
    },
    {
      "cell_type": "code",
      "source": [
        "!./ejem1"
      ],
      "metadata": {
        "colab": {
          "base_uri": "https://localhost:8080/"
        },
        "id": "LdQ_cAsVW-Hy",
        "outputId": "6ceb198e-9712-4629-c646-2cfb1c98e739"
      },
      "execution_count": 38,
      "outputs": [
        {
          "output_type": "stream",
          "name": "stdout",
          "text": [
            "-5\n"
          ]
        }
      ]
    },
    {
      "cell_type": "markdown",
      "source": [
        "2. Ejemplo de desplazamiento usando una variable unsigned"
      ],
      "metadata": {
        "id": "-ul1TJPbXVml"
      }
    },
    {
      "cell_type": "code",
      "source": [
        "%%writefile ejemplo2.c\n",
        "\n",
        "#include <stdio.h>\n",
        "\n",
        "int main()\n",
        "{\n",
        "  \n",
        "  unsigned char a=-255;\n",
        "  printf(\"%d\\n\",a<<1);\n",
        "\n",
        "}"
      ],
      "metadata": {
        "colab": {
          "base_uri": "https://localhost:8080/"
        },
        "id": "C0iEl1VOX9KH",
        "outputId": "04121f44-0538-4ad9-d9bd-c9d64d3f404d"
      },
      "execution_count": 29,
      "outputs": [
        {
          "output_type": "stream",
          "name": "stdout",
          "text": [
            "Overwriting ejemplo2.c\n"
          ]
        }
      ]
    },
    {
      "cell_type": "code",
      "source": [
        "%%script bash\n",
        "\n",
        "gcc ejemplo2.c -o ejem2"
      ],
      "metadata": {
        "id": "T4o3cAo6YGqJ"
      },
      "execution_count": 30,
      "outputs": []
    },
    {
      "cell_type": "code",
      "source": [
        "!./ejem2"
      ],
      "metadata": {
        "colab": {
          "base_uri": "https://localhost:8080/"
        },
        "id": "fZ0DWibcYLVh",
        "outputId": "4daa9ca6-d268-4091-cd75-38e7f3a11415"
      },
      "execution_count": 31,
      "outputs": [
        {
          "output_type": "stream",
          "name": "stdout",
          "text": [
            "510\n"
          ]
        }
      ]
    },
    {
      "cell_type": "markdown",
      "source": [
        "## Operaciones de bits: Máscaras de bits."
      ],
      "metadata": {
        "id": "kTW8476MKia3"
      }
    },
    {
      "cell_type": "markdown",
      "source": [
        "Ejemplo: Implemente la función int int_size() que determine el tamaño en bits de una variable int en esta máquina"
      ],
      "metadata": {
        "id": "NP1jhaiVKue4"
      }
    },
    {
      "cell_type": "code",
      "source": [
        "%%writefile intfunc.c\n",
        "\n",
        "#include <stdio.h>\n",
        "\n",
        "int int_size(){\n",
        "    unsigned int i=~0;\n",
        "    int size=0;\n",
        "    while(i){\n",
        "       size++;\n",
        "       i=i>>1;\n",
        "    }\n",
        "    return size;\n",
        "\n",
        "}\n",
        "\n",
        "int main(){\n",
        "    printf(\"La variable tipo int en esta máquina tiene %d bits.\\n\", int_size());\n",
        "    return 0;\n",
        "}"
      ],
      "metadata": {
        "colab": {
          "base_uri": "https://localhost:8080/"
        },
        "id": "81OjiPSAKnGA",
        "outputId": "801e36d4-4506-49af-957f-b7670d38bfdd"
      },
      "execution_count": 9,
      "outputs": [
        {
          "output_type": "stream",
          "name": "stdout",
          "text": [
            "Overwriting intfunc.c\n"
          ]
        }
      ]
    },
    {
      "cell_type": "code",
      "source": [
        "%%script bash\n",
        "\n",
        "gcc intfunc.c -o size"
      ],
      "metadata": {
        "id": "_6Oyur-VNEXK"
      },
      "execution_count": 10,
      "outputs": []
    },
    {
      "cell_type": "code",
      "source": [
        "!./size"
      ],
      "metadata": {
        "colab": {
          "base_uri": "https://localhost:8080/"
        },
        "id": "WzsDadO_Nu6C",
        "outputId": "38501a45-deb0-46c7-a144-7b9ca13b20e5"
      },
      "execution_count": 11,
      "outputs": [
        {
          "output_type": "stream",
          "name": "stdout",
          "text": [
            "La variable tipo int en esta máquina tiene 32 bits.\n"
          ]
        }
      ]
    }
  ]
}