{
  "nbformat": 4,
  "nbformat_minor": 0,
  "metadata": {
    "colab": {
      "provenance": [],
      "authorship_tag": "ABX9TyNL5H0pNTDFgURBzXSD46pN",
      "include_colab_link": true
    },
    "kernelspec": {
      "name": "python3",
      "display_name": "Python 3"
    },
    "language_info": {
      "name": "python"
    }
  },
  "cells": [
    {
      "cell_type": "markdown",
      "metadata": {
        "id": "view-in-github",
        "colab_type": "text"
      },
      "source": [
        "<a href=\"https://colab.research.google.com/github/camoragaq/C-uoh/blob/main/Clase_Pipes.ipynb\" target=\"_parent\"><img src=\"https://colab.research.google.com/assets/colab-badge.svg\" alt=\"Open In Colab\"/></a>"
      ]
    },
    {
      "cell_type": "markdown",
      "source": [
        "##Pipes en UNIX"
      ],
      "metadata": {
        "id": "wwbODd3YZ9jE"
      }
    },
    {
      "cell_type": "markdown",
      "source": [
        "Usando pipe para escribir y leer en el archivo de descriptores"
      ],
      "metadata": {
        "id": "PCGVx9NTqyMh"
      }
    },
    {
      "cell_type": "code",
      "source": [
        "%%writefile pipe.c\n",
        "\n",
        "#include <stdio.h>\n",
        "#include <unistd.h>\n",
        "#include <stdlib.h>\n",
        "\n",
        "#define MSGSIZE 16\n",
        "char* msg1 = \"hola mundo #1\";\n",
        "char* msg2 = \"hola mundo #2\";\n",
        "char* msg3 = \"hola mundo #3\";\n",
        "\n",
        "int main()\n",
        "{\n",
        "\tchar inbuf[MSGSIZE];\n",
        "\tint p[2], i;\n",
        "\n",
        "\tif (pipe(p) < 0)\n",
        "\t\texit(1);\n",
        "\n",
        "\n",
        "\twrite(p[1], msg1, MSGSIZE);\n",
        "\twrite(p[1], msg2, MSGSIZE);\n",
        "\twrite(p[1], msg3, MSGSIZE);\n",
        "\n",
        "\tfor (i = 0; i < 3; i++) {\n",
        "\n",
        "\t\tread(p[0], inbuf, MSGSIZE);\n",
        "\t\tprintf(\"%s\\n\", inbuf);\n",
        "\t}\n",
        "\treturn 0;\n",
        "}\n"
      ],
      "metadata": {
        "colab": {
          "base_uri": "https://localhost:8080/"
        },
        "id": "qMjrblL8Yk59",
        "outputId": "4ec765ae-dbbc-495b-e30b-a28c79a76b33"
      },
      "execution_count": 5,
      "outputs": [
        {
          "output_type": "stream",
          "name": "stdout",
          "text": [
            "Overwriting pipe.c\n"
          ]
        }
      ]
    },
    {
      "cell_type": "code",
      "source": [
        "!gcc pipe.c -o pipe"
      ],
      "metadata": {
        "id": "o-RdzTa0Zqgs"
      },
      "execution_count": 6,
      "outputs": []
    },
    {
      "cell_type": "code",
      "source": [
        "!./pipe"
      ],
      "metadata": {
        "colab": {
          "base_uri": "https://localhost:8080/"
        },
        "id": "Y8Aydb_UZ4uo",
        "outputId": "3723608c-da24-4f20-d8bd-f2daf912b777"
      },
      "execution_count": 7,
      "outputs": [
        {
          "output_type": "stream",
          "name": "stdout",
          "text": [
            "hola mundo #1\n",
            "hola mundo #2\n",
            "hola mundo #3\n"
          ]
        }
      ]
    },
    {
      "cell_type": "code",
      "execution_count": 11,
      "metadata": {
        "colab": {
          "base_uri": "https://localhost:8080/"
        },
        "id": "ZVLwtU6hGuD9",
        "outputId": "563cebe6-4012-4fee-896d-192e108cdcae"
      },
      "outputs": [
        {
          "output_type": "stream",
          "name": "stdout",
          "text": [
            "Writing pipe1.c\n"
          ]
        }
      ],
      "source": [
        "%%writefile pipe1.c\n",
        "\n",
        "#include <stdio.h>\n",
        "#include <unistd.h>\n",
        "#include <stdlib.h>\n",
        "#include <sys/wait.h>\n",
        "#include <string.h>\n",
        "\n",
        "int main(){\n",
        "  pid_t pid;\n",
        "\n",
        "  int fds[2];\n",
        "  pipe(fds);\n",
        "\n",
        "  pid = fork();//clonamos el proceso\n",
        "\n",
        "  if(pid==-1){\n",
        "    printf(\"Error en fork\\n\");\n",
        "    exit(1);\n",
        "  }\n",
        "  else if(pid == 0){//estamos en el hijo\n",
        "    close(fds[0]);//hijo envia datos\n",
        "    char *string= \"Hola alumnos!\\n\";\n",
        "    write(fds[1],string, strlen(string)+1);\n",
        "\n",
        "    exit(0);\n",
        "  }\n",
        "  else{\n",
        "    close(fds[1]);//estamos en el padre y leerá los datos\n",
        "    char buffer[80];\n",
        "    int n = read(fds[0],buffer,80);\n",
        "\n",
        "    waitpid(pid, NULL, 0);\n",
        "\n",
        "    printf(\"Mensaje del hijo al padre: %s\\n\", buffer);\n",
        "  }\n",
        "}"
      ]
    },
    {
      "cell_type": "code",
      "source": [
        "!gcc pipe1.c -o pipe1"
      ],
      "metadata": {
        "id": "hZfUe-Juqhot"
      },
      "execution_count": 12,
      "outputs": []
    },
    {
      "cell_type": "code",
      "source": [
        "!./pipe1"
      ],
      "metadata": {
        "colab": {
          "base_uri": "https://localhost:8080/"
        },
        "id": "50o0JmA7qjK0",
        "outputId": "038819d2-6f67-44ab-fcf4-9e0ee48f6397"
      },
      "execution_count": 13,
      "outputs": [
        {
          "output_type": "stream",
          "name": "stdout",
          "text": [
            "Mensaje del hijo al padre: Hola alumnos!\n",
            "\n"
          ]
        }
      ]
    },
    {
      "cell_type": "markdown",
      "source": [
        "Exec()\n",
        "para ejecutar un comando por código"
      ],
      "metadata": {
        "id": "j7QuTOHtq3a7"
      }
    },
    {
      "cell_type": "code",
      "source": [
        "%%writefile pipe-fork.c\n",
        "\n",
        "#include <stdio.h>\n",
        "#include <unistd.h>\n",
        "#include <stdlib.h>\n",
        "#include <sys/wait.h>\n",
        "#include <sys/types.h>\n",
        "\n",
        "int main(){\n",
        "  pid_t pid;\n",
        "\n",
        "  printf(\"-------------\\n\");\n",
        "  fflush(stdout);\n",
        "\n",
        "  pid = fork();\n",
        "  if(pid <0){\n",
        "    fprintf(stderr, \"fork Error\\n\");\n",
        "    exit(1);\n",
        "  }\n",
        "  if(pid == 0){\n",
        "    execl(\"/bin/ls\", \"ls\", \"-thlr\",NULL);\n",
        "    fprintf(stderr, \"exec...\\n\");\n",
        "    exit(1);\n",
        "  }\n",
        "  else{\n",
        "    int status;\n",
        "    waitpid(pid,&status,0);\n",
        "    printf(\"--------------\\n\");\n",
        "    return 0;\n",
        "  }\n",
        "}"
      ],
      "metadata": {
        "colab": {
          "base_uri": "https://localhost:8080/"
        },
        "id": "I4BgqWtmq8bh",
        "outputId": "fd798b44-f25b-41a3-f621-831422b9beef"
      },
      "execution_count": 23,
      "outputs": [
        {
          "output_type": "stream",
          "name": "stdout",
          "text": [
            "Overwriting pipe-fork.c\n"
          ]
        }
      ]
    },
    {
      "cell_type": "code",
      "source": [
        "!gcc pipe-fork.c -o pipefork"
      ],
      "metadata": {
        "id": "eIA9A605scDk"
      },
      "execution_count": 24,
      "outputs": []
    },
    {
      "cell_type": "code",
      "source": [
        "!./pipefork"
      ],
      "metadata": {
        "id": "A9EOjD53s54e"
      },
      "execution_count": null,
      "outputs": []
    },
    {
      "cell_type": "code",
      "source": [
        "!gcc pipe-fork.c -o pipefork"
      ],
      "metadata": {
        "id": "zH6zqlpPcyfP"
      },
      "execution_count": 9,
      "outputs": []
    },
    {
      "cell_type": "code",
      "source": [
        "!./pipefork"
      ],
      "metadata": {
        "colab": {
          "base_uri": "https://localhost:8080/"
        },
        "id": "--ksUoorc1UJ",
        "outputId": "2ef6a48a-45d0-4190-d0e4-76759479c69f"
      },
      "execution_count": 10,
      "outputs": [
        {
          "output_type": "stream",
          "name": "stdout",
          "text": [
            "^C\n"
          ]
        }
      ]
    }
  ]
}