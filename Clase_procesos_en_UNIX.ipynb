{
  "nbformat": 4,
  "nbformat_minor": 0,
  "metadata": {
    "colab": {
      "provenance": [],
      "authorship_tag": "ABX9TyOX1Tm42R9m2yh0EnelDCr4",
      "include_colab_link": true
    },
    "kernelspec": {
      "name": "python3",
      "display_name": "Python 3"
    },
    "language_info": {
      "name": "python"
    }
  },
  "cells": [
    {
      "cell_type": "markdown",
      "metadata": {
        "id": "view-in-github",
        "colab_type": "text"
      },
      "source": [
        "<a href=\"https://colab.research.google.com/github/camoragaq/C-uoh/blob/main/Clase_procesos_en_UNIX.ipynb\" target=\"_parent\"><img src=\"https://colab.research.google.com/assets/colab-badge.svg\" alt=\"Open In Colab\"/></a>"
      ]
    },
    {
      "cell_type": "markdown",
      "source": [
        "##Procesos en UNIX"
      ],
      "metadata": {
        "id": "eHnbrQR3e17p"
      }
    },
    {
      "cell_type": "markdown",
      "source": [
        "Uso de función getpid() "
      ],
      "metadata": {
        "id": "RJyBhvFmosLU"
      }
    },
    {
      "cell_type": "code",
      "execution_count": 1,
      "metadata": {
        "colab": {
          "base_uri": "https://localhost:8080/"
        },
        "id": "a0hKjyWZe1XG",
        "outputId": "8d2903d6-f661-4444-e424-c1ee05b63f27"
      },
      "outputs": [
        {
          "output_type": "stream",
          "name": "stdout",
          "text": [
            "Writing pid.c\n"
          ]
        }
      ],
      "source": [
        "%%writefile pid.c\n",
        "\n",
        "#include <stdio.h>\n",
        "#include <unistd.h>\n",
        "\n",
        "int main(){\n",
        "  printf(\"PID: %d\", getpid());\n",
        "  return 0;\n",
        "\n",
        "}"
      ]
    },
    {
      "cell_type": "code",
      "source": [
        "!gcc pid.c -o pid"
      ],
      "metadata": {
        "id": "gUCG-0YxfVpl"
      },
      "execution_count": 2,
      "outputs": []
    },
    {
      "cell_type": "code",
      "source": [
        "!./pid"
      ],
      "metadata": {
        "colab": {
          "base_uri": "https://localhost:8080/"
        },
        "id": "bkDvvrO1feQv",
        "outputId": "2354616b-c303-41bf-95bf-57d5e52002db"
      },
      "execution_count": 7,
      "outputs": [
        {
          "output_type": "stream",
          "name": "stdout",
          "text": [
            "PID: 143"
          ]
        }
      ]
    },
    {
      "cell_type": "markdown",
      "source": [
        "Fork PID Padre e Hijo: El programa a continuación muestra el comportamiento de fork, como fork retorna dos valores diferentes, es necesario examinar su retorno para identificar entre padre e hijo.\n",
        " \n",
        "\n"
      ],
      "metadata": {
        "id": "G17MocaDguYh"
      }
    },
    {
      "cell_type": "code",
      "source": [
        "%%writefile ppid.c\n",
        "\n",
        "#include <stdio.h>\n",
        "#include <unistd.h>\n",
        "#include <stdlib.h>\n",
        "\n",
        "int main(){\n",
        "  pid_t pid;\n",
        "\n",
        "  printf(\"Antes de fork\\n\");\n",
        "\n",
        "  pid = fork();\n",
        "\n",
        "  if(pid == -1){\n",
        "    printf(\"Error en fork()\\n\");\n",
        "    exit(1);\n",
        "  }\n",
        "  else if(pid ==0)\n",
        "    printf(\"Hijo -- PID es %d, y PPID es %d\\n\", getpid(), getppid());\n",
        "  else{\n",
        "    sleep(1);\n",
        "    printf(\"Padre -- PID es %d, PPID es %d, Hijo PID es %d\\n\", getpid(),getppid(), pid);\n",
        "  }\n",
        "  \n",
        "  printf(\"Después de fork(), ambos procesos continúan con la ejecución\\n\");\n",
        "\n",
        "\n",
        "\n",
        "}"
      ],
      "metadata": {
        "colab": {
          "base_uri": "https://localhost:8080/"
        },
        "id": "DCQKEeNEgxmX",
        "outputId": "9703aa87-291b-40e4-edd8-18f02830100e"
      },
      "execution_count": 13,
      "outputs": [
        {
          "output_type": "stream",
          "name": "stdout",
          "text": [
            "Overwriting ppid.c\n"
          ]
        }
      ]
    },
    {
      "cell_type": "code",
      "source": [
        "!gcc ppid.c -o ppid"
      ],
      "metadata": {
        "id": "GADHOPGXiMbh"
      },
      "execution_count": 14,
      "outputs": []
    },
    {
      "cell_type": "code",
      "source": [
        "!./ppid"
      ],
      "metadata": {
        "colab": {
          "base_uri": "https://localhost:8080/"
        },
        "id": "wrm6k0gXiO0u",
        "outputId": "0d0698f0-e446-4790-b1ac-9ee9383c5cdb"
      },
      "execution_count": 16,
      "outputs": [
        {
          "output_type": "stream",
          "name": "stdout",
          "text": [
            "Antes de fork\n",
            "Hijo -- PID es 278, y PPID es 277\n",
            "Después de fork(), ambos procesos continúan con la ejecución\n",
            "Padre -- PID es 277, PPID es 77, Hijo PID es 278\n",
            "Después de fork(), ambos procesos continúan con la ejecución\n"
          ]
        }
      ]
    },
    {
      "cell_type": "markdown",
      "source": [
        "funcion de espera del proceso padre a sus hijos"
      ],
      "metadata": {
        "id": "4ambcE6NsB41"
      }
    },
    {
      "cell_type": "code",
      "source": [
        "%%writefile wait.c\n",
        "\n",
        "#include<stdio.h>\n",
        "#include<stdlib.h>\n",
        "#include<sys/wait.h>\n",
        "#include<unistd.h>\n",
        "\n",
        "int main()\n",
        "{\n",
        "\tpid_t cpid;\n",
        "\tif (fork()== 0)\n",
        "\t\texit(0);\t\t /* termina hijo */\n",
        "\telse // es el padre\n",
        "\t\tcpid = wait(NULL); /* reaping parent */\n",
        "\tprintf(\"Parent pid = %d\\n\", getpid());\n",
        "\tprintf(\"Child pid = %d\\n\", cpid);\n",
        "\n",
        "\treturn 0;\n",
        "}\n"
      ],
      "metadata": {
        "colab": {
          "base_uri": "https://localhost:8080/"
        },
        "id": "H9TQTXRtsGDY",
        "outputId": "15a600ba-4fbb-4ca6-eb19-11ab90b4e012"
      },
      "execution_count": 17,
      "outputs": [
        {
          "output_type": "stream",
          "name": "stdout",
          "text": [
            "Writing wait.c\n"
          ]
        }
      ]
    },
    {
      "cell_type": "code",
      "source": [
        "!gcc wait.c -o wait"
      ],
      "metadata": {
        "id": "hN6EvBFisi6H"
      },
      "execution_count": 18,
      "outputs": []
    },
    {
      "cell_type": "code",
      "source": [
        "!./wait"
      ],
      "metadata": {
        "colab": {
          "base_uri": "https://localhost:8080/"
        },
        "id": "9q6Zdp5Wsmz0",
        "outputId": "3bcac2b9-685c-40e8-dca0-d03d337c1258"
      },
      "execution_count": 19,
      "outputs": [
        {
          "output_type": "stream",
          "name": "stdout",
          "text": [
            "Parent pid = 390\n",
            "Child pid = 391\n"
          ]
        }
      ]
    },
    {
      "cell_type": "code",
      "source": [
        "\n",
        "#include<stdio.h>\n",
        "#include<sys/wait.h>\n",
        "#include<unistd.h>\n",
        "\n",
        "int main()\n",
        "{\n",
        "\tif (fork()== 0)\n",
        "\t\tprintf(\"HC: hello from child\\n\");\n",
        "\telse\n",
        "\t{\n",
        "\t\tprintf(\"HP: hello from parent\\n\");\n",
        "\t\twait(NULL);\n",
        "\t\tprintf(\"CT: child has terminated\\n\");\n",
        "\t}\n",
        "\n",
        "\tprintf(\"Bye\\n\");\n",
        "\treturn 0;\n",
        "}\n"
      ],
      "metadata": {
        "id": "ue-wTpDLsuZB"
      },
      "execution_count": null,
      "outputs": []
    }
  ]
}