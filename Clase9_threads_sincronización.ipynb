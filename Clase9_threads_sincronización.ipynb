{
  "nbformat": 4,
  "nbformat_minor": 0,
  "metadata": {
    "colab": {
      "provenance": [],
      "collapsed_sections": [],
      "authorship_tag": "ABX9TyPAymWoYekyWEVWG1oLva6e",
      "include_colab_link": true
    },
    "kernelspec": {
      "name": "python3",
      "display_name": "Python 3"
    },
    "language_info": {
      "name": "python"
    }
  },
  "cells": [
    {
      "cell_type": "markdown",
      "metadata": {
        "id": "view-in-github",
        "colab_type": "text"
      },
      "source": [
        "<a href=\"https://colab.research.google.com/github/camoragaq/C-uoh/blob/main/Clase9_threads_sincronizaci%C3%B3n.ipynb\" target=\"_parent\"><img src=\"https://colab.research.google.com/assets/colab-badge.svg\" alt=\"Open In Colab\"/></a>"
      ]
    },
    {
      "cell_type": "markdown",
      "source": [
        "##Threads en C: Sincronización"
      ],
      "metadata": {
        "id": "bJGHjzoQgss9"
      }
    },
    {
      "cell_type": "code",
      "execution_count": 56,
      "metadata": {
        "colab": {
          "base_uri": "https://localhost:8080/"
        },
        "id": "4yMhWr9Qgr0B",
        "outputId": "b2dce001-a937-4879-e4bc-69c00c2f7f6b"
      },
      "outputs": [
        {
          "output_type": "stream",
          "name": "stdout",
          "text": [
            "Overwriting hilo2.c\n"
          ]
        }
      ],
      "source": [
        "%%writefile hilo2.c\n",
        "\n",
        "#include <stdio.h>\n",
        "#include <string.h>\n",
        "#include <pthread.h>\n",
        "\n",
        "int a=0;\n",
        "\n",
        "\n",
        "void *thread(void *ptr){\n",
        "  for (int i=0; i<1000; i++){\n",
        "    a +=1;\n",
        "\n",
        "  }\n",
        "  return NULL;\n",
        "}\n",
        "\n",
        "int main(){\n",
        "  pthread_t thread1, thread2;\n",
        "  \n",
        "\n",
        "  pthread_create(&thread1, NULL, thread, NULL);\n",
        "  pthread_create(&thread2, NULL, thread, NULL);\n",
        "\n",
        "  pthread_join(thread1, NULL);\n",
        "  pthread_join(thread2, NULL);\n",
        "\n",
        "  printf(\"a = %d\\n\", a);\n",
        "  return 0;\n",
        "\n",
        "\n",
        "}"
      ]
    },
    {
      "cell_type": "code",
      "source": [
        "!gcc hilo2.c -o hilo2 -lpthread"
      ],
      "metadata": {
        "id": "gAF2uX-N5ooV"
      },
      "execution_count": 57,
      "outputs": []
    },
    {
      "cell_type": "code",
      "source": [
        "!./hilo2"
      ],
      "metadata": {
        "colab": {
          "base_uri": "https://localhost:8080/"
        },
        "id": "fpnHvIW65rrC",
        "outputId": "bcd4e914-3081-4f54-8b58-9adb01a59ab9"
      },
      "execution_count": 58,
      "outputs": [
        {
          "output_type": "stream",
          "name": "stdout",
          "text": [
            "a = 2000\n"
          ]
        }
      ]
    },
    {
      "cell_type": "markdown",
      "source": [
        "#Ejemplo de la cuenta bancaria"
      ],
      "metadata": {
        "id": "eYcmgm-tja0L"
      }
    },
    {
      "cell_type": "code",
      "source": [
        "%%writefile banco.c\n",
        "\n",
        "#include <stdio.h>\n",
        "#include <pthread.h>\n",
        "\n",
        "int saldo =100;\n",
        "pthread_mutex_t m;\n",
        "\n",
        "void *depositar(void *ptr){\n",
        "  int *p = (int *) ptr;\n",
        "  int dinero = *p;\n",
        "\n",
        "  pthread_mutex_lock(&m);\n",
        "  saldo+= dinero;\n",
        "  pthread_mutex_unlock(&m);\n",
        "  return NULL;\n",
        "\n",
        "}\n",
        "\n",
        "void *girar(void *ptr){ //que pasa si tenemos 2 threads quieren retirar al mismo tiempo?\n",
        "  int *p = (int *) ptr;\n",
        "  int dinero = *p;\n",
        "\n",
        "  pthread_mutex_lock(&m);\n",
        "  if(saldo >= dinero){\n",
        "    saldo -= dinero;\n",
        "    return NULL;\n",
        "  }\n",
        "  else{\n",
        "    printf(\"No hay saldo disponible\\n\");\n",
        "  }\n",
        "  pthread_mutex_unlock(&m);\n",
        "\n",
        "}\n",
        "\n",
        "\n",
        "int main(){\n",
        "  pthread_t thread1, thread2;\n",
        "  pthread_mutex_init(&m,NULL);\n",
        "\n",
        "  int giro = 50;\n",
        "  pthread_create(&thread1, NULL, girar, &giro);\n",
        "  pthread_create(&thread2, NULL, girar, &giro);\n",
        "\n",
        "  pthread_join(thread1, NULL);\n",
        "  pthread_join(thread2, NULL);\n",
        "\n",
        "  printf(\"saldo = %d\\n\", saldo);\n",
        "  return 0;\n",
        "}"
      ],
      "metadata": {
        "colab": {
          "base_uri": "https://localhost:8080/"
        },
        "id": "_ALW57T2jdwp",
        "outputId": "1d978131-cb07-4673-d191-302c00b251fd"
      },
      "execution_count": 44,
      "outputs": [
        {
          "output_type": "stream",
          "name": "stdout",
          "text": [
            "Overwriting banco.c\n"
          ]
        }
      ]
    },
    {
      "cell_type": "code",
      "source": [
        "!gcc banco.c -o banco -lpthread"
      ],
      "metadata": {
        "id": "iALZzfX1mM1V"
      },
      "execution_count": 45,
      "outputs": []
    },
    {
      "cell_type": "code",
      "source": [
        "!./banco"
      ],
      "metadata": {
        "colab": {
          "base_uri": "https://localhost:8080/"
        },
        "id": "s0hqeMYumvSI",
        "outputId": "df7620d8-803d-4b8b-ee64-92c374c9d35e"
      },
      "execution_count": 46,
      "outputs": [
        {
          "output_type": "stream",
          "name": "stdout",
          "text": [
            "^C\n"
          ]
        }
      ]
    },
    {
      "cell_type": "markdown",
      "source": [
        "Implementar el siguiente código del factorial usando mutex."
      ],
      "metadata": {
        "id": "ZtkznhE2JyOv"
      }
    },
    {
      "cell_type": "code",
      "source": [
        "%%writefile facto.c\n",
        "\n",
        "#include <stdio.h>\n",
        "#include <stdlib.h>\n",
        "#include <pthread.h>\n",
        "\n",
        "  double mult(int i, int j) {\n",
        "    int k;\n",
        "    double p= 1.;\n",
        "    for (k=i; k<=j; k++)\n",
        "      p *= k;\n",
        "\n",
        "    return p;\n",
        "  }\n",
        "\n",
        "  typedef struct {\n",
        "    int i, j;\n",
        "    pthread_t pid;\n",
        "    double res;\n",
        "  } Args;\n",
        "\n",
        "  void *mult_thread(void *ptr) {\n",
        "    Args *args= (Args*)ptr;\n",
        "    args->res= mult(args->i, args->j);\n",
        "    return NULL;\n",
        "  }\n",
        "\n",
        "\n",
        "  int main(int argc, char **argv) {\n",
        "    int n= atoi(argv[1]);//recibe el numero factorial a la hora de ejecutar el codigo\n",
        "    int l= (n+1)/2;//divide el numero factorial para que se calcule en ambos threads en partes iguales\n",
        "    Args args1, args2;//creamos 2 estructuras de tipo Args\n",
        "\n",
        "    args1.i= 1;\n",
        "    args1.j= l;\n",
        "    pthread_create(&args1.pid, NULL, mult_thread, &args1);\n",
        "\n",
        "    args2.i= l+1;\n",
        "    args2.j= n;\n",
        "    pthread_create(&args2.pid, NULL, mult_thread, &args2);\n",
        "\n",
        "    pthread_join(args1.pid, NULL);\n",
        "    pthread_join(args2.pid, NULL);\n",
        "    printf(\"factorial=%1.14g\\n\", args1.res*args2.res);\n",
        "    return 0;\n",
        "  }"
      ],
      "metadata": {
        "colab": {
          "base_uri": "https://localhost:8080/"
        },
        "id": "Z4_3JRGaJ2t9",
        "outputId": "beb42b3e-91d1-46db-ad55-a5aa05127ded"
      },
      "execution_count": 2,
      "outputs": [
        {
          "output_type": "stream",
          "name": "stdout",
          "text": [
            "Writing facto.c\n"
          ]
        }
      ]
    },
    {
      "cell_type": "markdown",
      "source": [
        "El tipo de estructura Args se crea para poder pasar varios argumentos al thread, albergar el pid del thread y retornar el resultado final."
      ],
      "metadata": {
        "id": "uXEVCL0VQwc0"
      }
    },
    {
      "cell_type": "code",
      "source": [
        "!gcc facto.c -o facto -lpthread"
      ],
      "metadata": {
        "id": "j5WOiyw_N0p2"
      },
      "execution_count": 3,
      "outputs": []
    },
    {
      "cell_type": "code",
      "source": [
        "!./facto 5"
      ],
      "metadata": {
        "colab": {
          "base_uri": "https://localhost:8080/"
        },
        "id": "nBF3mgWDO0S_",
        "outputId": "6c0a44b8-5e0d-4fe7-a499-54269f452e60"
      },
      "execution_count": 5,
      "outputs": [
        {
          "output_type": "stream",
          "name": "stdout",
          "text": [
            "factorial=120\n"
          ]
        }
      ]
    }
  ]
}