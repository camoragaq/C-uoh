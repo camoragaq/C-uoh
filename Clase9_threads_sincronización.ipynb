{
  "nbformat": 4,
  "nbformat_minor": 0,
  "metadata": {
    "colab": {
      "provenance": [],
      "collapsed_sections": [],
      "authorship_tag": "ABX9TyPkK2DjZsVOdkNm5kZpvPaP",
      "include_colab_link": true
    },
    "kernelspec": {
      "name": "python3",
      "display_name": "Python 3"
    },
    "language_info": {
      "name": "python"
    }
  },
  "cells": [
    {
      "cell_type": "markdown",
      "metadata": {
        "id": "view-in-github",
        "colab_type": "text"
      },
      "source": [
        "<a href=\"https://colab.research.google.com/github/camoragaq/C-uoh/blob/main/Clase9_threads_sincronizaci%C3%B3n.ipynb\" target=\"_parent\"><img src=\"https://colab.research.google.com/assets/colab-badge.svg\" alt=\"Open In Colab\"/></a>"
      ]
    },
    {
      "cell_type": "markdown",
      "source": [
        "##Threads en C: Sincronización"
      ],
      "metadata": {
        "id": "bJGHjzoQgss9"
      }
    },
    {
      "cell_type": "code",
      "execution_count": 56,
      "metadata": {
        "colab": {
          "base_uri": "https://localhost:8080/"
        },
        "id": "4yMhWr9Qgr0B",
        "outputId": "b2dce001-a937-4879-e4bc-69c00c2f7f6b"
      },
      "outputs": [
        {
          "output_type": "stream",
          "name": "stdout",
          "text": [
            "Overwriting hilo2.c\n"
          ]
        }
      ],
      "source": [
        "%%writefile hilo2.c\n",
        "\n",
        "#include <stdio.h>\n",
        "#include <string.h>\n",
        "#include <pthread.h>\n",
        "\n",
        "int a=0;\n",
        "\n",
        "\n",
        "void *thread(void *ptr){\n",
        "  for (int i=0; i<1000; i++){\n",
        "    a +=1;\n",
        "\n",
        "  }\n",
        "  return NULL;\n",
        "}\n",
        "\n",
        "int main(){\n",
        "  pthread_t thread1, thread2;\n",
        "  \n",
        "\n",
        "  pthread_create(&thread1, NULL, thread, NULL);\n",
        "  pthread_create(&thread2, NULL, thread, NULL);\n",
        "\n",
        "  pthread_join(thread1, NULL);\n",
        "  pthread_join(thread2, NULL);\n",
        "\n",
        "  printf(\"a = %d\\n\", a);\n",
        "  return 0;\n",
        "\n",
        "\n",
        "}"
      ]
    },
    {
      "cell_type": "code",
      "source": [
        "!gcc hilo2.c -o hilo2 -lpthread"
      ],
      "metadata": {
        "id": "gAF2uX-N5ooV"
      },
      "execution_count": 57,
      "outputs": []
    },
    {
      "cell_type": "code",
      "source": [
        "!./hilo2"
      ],
      "metadata": {
        "colab": {
          "base_uri": "https://localhost:8080/"
        },
        "id": "fpnHvIW65rrC",
        "outputId": "bcd4e914-3081-4f54-8b58-9adb01a59ab9"
      },
      "execution_count": 58,
      "outputs": [
        {
          "output_type": "stream",
          "name": "stdout",
          "text": [
            "a = 2000\n"
          ]
        }
      ]
    },
    {
      "cell_type": "markdown",
      "source": [
        "#Ejemplo de la cuenta bancaria"
      ],
      "metadata": {
        "id": "eYcmgm-tja0L"
      }
    },
    {
      "cell_type": "code",
      "source": [
        "%%writefile banco.c\n",
        "\n",
        "#include <stdio.h>\n",
        "#include <pthread.h>\n",
        "\n",
        "int saldo =100;\n",
        "pthread_mutex_t m;\n",
        "\n",
        "void *depositar(void *ptr){\n",
        "  int *p = (int *) ptr;\n",
        "  int dinero = *p;\n",
        "\n",
        "  pthread_mutex_lock(&m);\n",
        "  saldo+= dinero;\n",
        "  pthread_mutex_unlock(&m);\n",
        "  return NULL;\n",
        "\n",
        "}\n",
        "\n",
        "void *girar(void *ptr){ //que pasa si tenemos 2 threads quieren retirar al mismo tiempo?\n",
        "  int *p = (int *) ptr;\n",
        "  int dinero = *p;\n",
        "\n",
        "  pthread_mutex_lock(&m);\n",
        "  if(saldo >= dinero){\n",
        "    saldo -= dinero;\n",
        "    return NULL;\n",
        "  }\n",
        "  else{\n",
        "    printf(\"No hay saldo disponible\\n\");\n",
        "  }\n",
        "  pthread_mutex_unlock(&m);\n",
        "\n",
        "}\n",
        "\n",
        "\n",
        "int main(){\n",
        "  pthread_t thread1, thread2;\n",
        "  pthread_mutex_init(&m,NULL);\n",
        "\n",
        "  int giro = 50;\n",
        "  pthread_create(&thread1, NULL, girar, &giro);\n",
        "  pthread_create(&thread2, NULL, girar, &giro);\n",
        "\n",
        "  pthread_join(thread1, NULL);\n",
        "  pthread_join(thread2, NULL);\n",
        "\n",
        "  printf(\"saldo = %d\\n\", saldo);\n",
        "  return 0;\n",
        "}"
      ],
      "metadata": {
        "colab": {
          "base_uri": "https://localhost:8080/"
        },
        "id": "_ALW57T2jdwp",
        "outputId": "1d978131-cb07-4673-d191-302c00b251fd"
      },
      "execution_count": 44,
      "outputs": [
        {
          "output_type": "stream",
          "name": "stdout",
          "text": [
            "Overwriting banco.c\n"
          ]
        }
      ]
    },
    {
      "cell_type": "code",
      "source": [
        "!gcc banco.c -o banco -lpthread"
      ],
      "metadata": {
        "id": "iALZzfX1mM1V"
      },
      "execution_count": 45,
      "outputs": []
    },
    {
      "cell_type": "code",
      "source": [
        "!./banco"
      ],
      "metadata": {
        "colab": {
          "base_uri": "https://localhost:8080/"
        },
        "id": "s0hqeMYumvSI",
        "outputId": "df7620d8-803d-4b8b-ee64-92c374c9d35e"
      },
      "execution_count": 46,
      "outputs": [
        {
          "output_type": "stream",
          "name": "stdout",
          "text": [
            "^C\n"
          ]
        }
      ]
    }
  ]
}