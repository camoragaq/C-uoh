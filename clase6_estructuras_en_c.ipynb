{
  "nbformat": 4,
  "nbformat_minor": 0,
  "metadata": {
    "colab": {
      "provenance": [],
      "collapsed_sections": [],
      "authorship_tag": "ABX9TyP0kwZLRAq7IcO+4D6xsPln",
      "include_colab_link": true
    },
    "kernelspec": {
      "name": "python3",
      "display_name": "Python 3"
    },
    "language_info": {
      "name": "python"
    }
  },
  "cells": [
    {
      "cell_type": "markdown",
      "metadata": {
        "id": "view-in-github",
        "colab_type": "text"
      },
      "source": [
        "<a href=\"https://colab.research.google.com/github/camoragaq/C-uoh/blob/main/clase6_estructuras_en_c.ipynb\" target=\"_parent\"><img src=\"https://colab.research.google.com/assets/colab-badge.svg\" alt=\"Open In Colab\"/></a>"
      ]
    },
    {
      "cell_type": "markdown",
      "source": [
        "##Clase 6: Estructuras en C"
      ],
      "metadata": {
        "id": "vRL4nyWxwYK1"
      }
    },
    {
      "cell_type": "markdown",
      "source": [
        "Definiendo una estructura en C"
      ],
      "metadata": {
        "id": "C0n1CPVSwbrx"
      }
    },
    {
      "cell_type": "code",
      "execution_count": null,
      "metadata": {
        "id": "GVsb_unUwVVj"
      },
      "outputs": [],
      "source": [
        "struct persona{\n",
        "    int edad;\n",
        "    char nombre[15];\n",
        "};\n",
        "\n",
        "//luego creamos una estructura\n",
        "struct persona p;\n",
        "p.edad = 20;\n",
        "p.nombre = \"juan\";\n",
        "\n",
        "//o también podemos inicializar asi\n",
        "struct persona p = {20,\"juan\"}"
      ]
    },
    {
      "cell_type": "markdown",
      "source": [
        "Crearemos una función que use una estructura, e incremente el valor edad"
      ],
      "metadata": {
        "id": "rceEOj5o13WN"
      }
    },
    {
      "cell_type": "code",
      "source": [
        "%%writefile cumple.c\n",
        "#include <stdio.h>//\n",
        "#include <stdlib.h>\n",
        "\n",
        "struct persona{\n",
        "    int edad;\n",
        "    char nombre[15];\n",
        "};\n",
        "\n",
        "void cumple(struct persona *p){\n",
        "    p->edad+=1;\n",
        "}\n",
        "\n",
        "int main(){\n",
        "    struct persona p = {20, \"juan\"};\n",
        "\n",
        "    cumple(&p);\n",
        "    printf(\"persona %s tiene %d\",p.nombre, p.edad);\n",
        "\n",
        "    return 0;\n",
        "}"
      ],
      "metadata": {
        "colab": {
          "base_uri": "https://localhost:8080/"
        },
        "id": "DkT3Bb1i2aGg",
        "outputId": "fe03ac50-397d-402d-a339-2c2b0dba791c"
      },
      "execution_count": 11,
      "outputs": [
        {
          "output_type": "stream",
          "name": "stdout",
          "text": [
            "Overwriting cumple.c\n"
          ]
        }
      ]
    },
    {
      "cell_type": "code",
      "source": [
        "%%script bash\n",
        "\n",
        "gcc cumple.c -o cumple"
      ],
      "metadata": {
        "id": "EUq6g_K83vvv"
      },
      "execution_count": 12,
      "outputs": []
    },
    {
      "cell_type": "code",
      "source": [
        "!./cumple"
      ],
      "metadata": {
        "colab": {
          "base_uri": "https://localhost:8080/"
        },
        "id": "w8BAymGA3-9S",
        "outputId": "e18d1e65-b999-4098-d526-c61e5d38000d"
      },
      "execution_count": 13,
      "outputs": [
        {
          "output_type": "stream",
          "name": "stdout",
          "text": [
            "persona juan tiene 21"
          ]
        }
      ]
    },
    {
      "cell_type": "markdown",
      "source": [
        "Cual es el error?"
      ],
      "metadata": {
        "id": "n1Pkdf1Y6e-T"
      }
    },
    {
      "cell_type": "markdown",
      "source": [
        "#typedef"
      ],
      "metadata": {
        "id": "pXvyVbNM6yOG"
      }
    },
    {
      "cell_type": "markdown",
      "source": [
        "es una palabra predefinida en C que permite asignar alias a nuestras estructuras, ayudando a simplificar la sintaxis de las estructuras"
      ],
      "metadata": {
        "id": "k6uARCBI60mE"
      }
    },
    {
      "cell_type": "code",
      "source": [
        "%%writefile n.c\n",
        "struct persona{\n",
        "    int edad;\n",
        "    char nombre[15];\n",
        "};\n",
        "\n",
        "typedef struct persona Persona;\n",
        "\n",
        "Persona p;\n",
        "p.edad = 20;\n",
        "p.nombre = \"juan\";"
      ],
      "metadata": {
        "colab": {
          "base_uri": "https://localhost:8080/"
        },
        "id": "tZYXUVyK7BVv",
        "outputId": "224e9984-17f8-4615-ea8c-e61deb7a4cbb"
      },
      "execution_count": 10,
      "outputs": [
        {
          "output_type": "stream",
          "name": "stdout",
          "text": [
            "Writing n.c\n"
          ]
        }
      ]
    },
    {
      "cell_type": "markdown",
      "source": [
        "O también"
      ],
      "metadata": {
        "id": "j0f7nDFT8UhY"
      }
    },
    {
      "cell_type": "code",
      "source": [
        "%%writefile n.c\n",
        "typedef struct persona {\n",
        "    int edad;\n",
        "    char nombre[15];\n",
        "} Persona;\n",
        "\n"
      ],
      "metadata": {
        "id": "WzPINltp8W7H"
      },
      "execution_count": null,
      "outputs": []
    },
    {
      "cell_type": "markdown",
      "source": [
        "También podemos declarar typedef globalmente al inicio del código:"
      ],
      "metadata": {
        "id": "O6S99tKr89dH"
      }
    },
    {
      "cell_type": "code",
      "source": [
        "%%writefile hola.c\n",
        "#include <stdio.h>\n",
        "\n",
        "typedef char* String;\n",
        "typedef int Entero;\n",
        "\n",
        "int main(){\n",
        "    Entero a = 10;\n",
        "    Entero b = 20;\n",
        "    printf(\"a+b = %d\\n\",a+b);\n",
        "    String s=\"Hola mundo!\";\n",
        "\n",
        "    printf(\"%s\\n\",s);\n",
        "\n",
        "    return 0;\n",
        "}"
      ],
      "metadata": {
        "colab": {
          "base_uri": "https://localhost:8080/"
        },
        "id": "X9CDIVtZ9LRD",
        "outputId": "d1478d45-29fc-423d-adb5-bbbf5dc987ab"
      },
      "execution_count": 31,
      "outputs": [
        {
          "output_type": "stream",
          "name": "stdout",
          "text": [
            "Writing hola.c\n"
          ]
        }
      ]
    },
    {
      "cell_type": "code",
      "source": [
        "%%script bash\n",
        "\n",
        "gcc hola.c -o hola"
      ],
      "metadata": {
        "id": "x5G6NvHj9ySS"
      },
      "execution_count": 32,
      "outputs": []
    },
    {
      "cell_type": "code",
      "source": [
        "!./hola"
      ],
      "metadata": {
        "colab": {
          "base_uri": "https://localhost:8080/"
        },
        "id": "GcKJc8Ik92Gt",
        "outputId": "edc91080-5312-49ee-9a79-f2aa129596cb"
      },
      "execution_count": 33,
      "outputs": [
        {
          "output_type": "stream",
          "name": "stdout",
          "text": [
            "a+b = 30\n",
            "Hola mundo!\n"
          ]
        }
      ]
    },
    {
      "cell_type": "markdown",
      "source": [
        "Defina una estructura en C de forma correcta, identifique la incorrecta:"
      ],
      "metadata": {
        "id": "p92XAZie6hZ_"
      }
    },
    {
      "cell_type": "code",
      "source": [
        "//opcion a\n",
        "struct{\n",
        "    int a;\n",
        "};\n",
        "\n",
        "//opcion b\n",
        "struct mi_struct{\n",
        "    int a;\n",
        "};\n",
        "\n",
        "//opcion c\n",
        "struct mi_struct{\n",
        "    struct mi_struct a;\n",
        "};\n",
        "\n",
        "//opcion d\n",
        "typedef struct mi_struct {\n",
        "    Mi_struct *a;\n",
        "} Mi_struct;\n",
        "\n",
        "\n",
        "\n"
      ],
      "metadata": {
        "id": "isIUj7Fc6oBG"
      },
      "execution_count": null,
      "outputs": []
    },
    {
      "cell_type": "markdown",
      "source": [
        "#Listas enlazadas"
      ],
      "metadata": {
        "id": "iVqoJhn5-4Zr"
      }
    },
    {
      "cell_type": "markdown",
      "source": [
        "![image.png](data:image/png;base64,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)"
      ],
      "metadata": {
        "id": "SM1_qPWrAF2f"
      }
    },
    {
      "cell_type": "markdown",
      "source": [
        "En Ciencias de la Computación, una lista enlazada es una de las estructuras de datos fundamentales, y puede ser usada para implementar otras estructuras de datos. \n",
        "Consiste en una secuencia de nodos, en los que se guardan campos de datos arbitrarios y una o dos referencias (punteros) al nodo anterior o posterior. El principal beneficio de las listas enlazadas respecto a los array convencionales es que el orden de los elementos enlazados puede ser diferente al orden de almacenamiento en la memoria o el disco, permitiendo que el orden de recorrido de la lista sea diferente al de almacenamiento."
      ],
      "metadata": {
        "id": "qF-7Z6taAG32"
      }
    },
    {
      "cell_type": "code",
      "source": [
        "#include <stdio.h>\n",
        "#include <stdlib.h>\n",
        " \n",
        "typedef struct nodo{ //nodo es el nombre de la estructura\n",
        "    int valor;\n",
        "    struct nodo *sig; //El puntero siguiente para recorrer la lista enlazada\n",
        "}Nodo; //Nodo es el tipo de dato para declarar la estructura\n",
        " \n"
      ],
      "metadata": {
        "id": "UJL3ySvu_4hf"
      },
      "execution_count": null,
      "outputs": []
    },
    {
      "cell_type": "markdown",
      "source": [
        "Realizar una función que imprima la lista enlazada"
      ],
      "metadata": {
        "id": "y4GDFv67BjaJ"
      }
    },
    {
      "cell_type": "code",
      "source": [
        "%%writefile listas_enl.c\n",
        "#include <stdio.h>\n",
        "#include <stdlib.h>\n",
        " \n",
        "typedef struct nodo{ //nodo es el nombre de la estructura\n",
        "    int valor;\n",
        "    struct nodo *sgte; //El puntero siguiente para recorrer la lista enlazada\n",
        "}Nodo; //Nodo es el tipo de dato para declarar la estructura\n",
        " \n",
        "void imprime_lista(Nodo *n){\n",
        "    printf(\"%d -> \", n->valor);\n",
        "    if(n->sgte == NULL){\n",
        "        printf(\"NULL\\n\");\n",
        "    }\n",
        "    else{\n",
        "        imprime_lista(n->sgte);\n",
        "    }\n",
        "    \n",
        "}\n",
        "\n",
        "int main(){\n",
        "    Nodo n1={10,NULL};\n",
        "    Nodo n2={20,&n1};\n",
        "\n",
        "    Nodo *lista= &n2;\n",
        "    imprime_lista(lista);\n",
        "    \n",
        "\n",
        "    return 0;\n",
        "    \n",
        "}"
      ],
      "metadata": {
        "colab": {
          "base_uri": "https://localhost:8080/"
        },
        "id": "mdVbJ3mNBrQB",
        "outputId": "6dae780d-177a-4736-c7ab-b458f7051a26"
      },
      "execution_count": 4,
      "outputs": [
        {
          "output_type": "stream",
          "name": "stdout",
          "text": [
            "Overwriting listas_enl.c\n"
          ]
        }
      ]
    },
    {
      "cell_type": "code",
      "source": [
        "%%script bash\n",
        "\n",
        "gcc listas_enl.c -o list"
      ],
      "metadata": {
        "id": "HASh0-dHC6dR"
      },
      "execution_count": 5,
      "outputs": []
    },
    {
      "cell_type": "code",
      "source": [
        "!./list"
      ],
      "metadata": {
        "colab": {
          "base_uri": "https://localhost:8080/"
        },
        "id": "SUDnhsLkC98T",
        "outputId": "be38769b-2d1d-4f1d-9907-c2372cdd4e4b"
      },
      "execution_count": 6,
      "outputs": [
        {
          "output_type": "stream",
          "name": "stdout",
          "text": [
            "20 -> 10 -> NULL\n"
          ]
        }
      ]
    },
    {
      "cell_type": "markdown",
      "source": [
        "Realizar una función que inserte un elemento en la lista"
      ],
      "metadata": {
        "id": "zLhLNv99Bm6Z"
      }
    },
    {
      "cell_type": "code",
      "source": [
        "%%writefile listas_enl2.c\n",
        "#include <stdio.h>\n",
        "#include <stdlib.h>\n",
        " \n",
        "typedef struct nodo{ //nodo es el nombre de la estructura\n",
        "    int valor;\n",
        "    struct nodo *sgte; //El puntero siguiente para recorrer la lista enlazada\n",
        "}Nodo; //Nodo es el tipo de dato para declarar la estructura\n",
        " \n",
        "void imprime_lista(Nodo *n){\n",
        "    printf(\"%d -> \", n->valor);\n",
        "    if(n->sgte == NULL){\n",
        "        printf(\"NULL\\n\");\n",
        "    }\n",
        "    else{\n",
        "        imprime_lista(n->sgte);\n",
        "    }\n",
        "    \n",
        "}\n",
        "\n",
        "void insertar(Nodo *lista, int valor){\n",
        "  if(lista->sgte == NULL){\n",
        "        //Nodo nuevo = {valor, NULL};\n",
        "        Nodo *nuevo = malloc(sizeof(Nodo));\n",
        "        nuevo->valor=valor;\n",
        "        nuevo->sgte=NULL;\n",
        "        lista->sgte =nuevo;\n",
        "    }\n",
        "    else{\n",
        "        insertar(lista->sgte, valor);\n",
        "    }\n",
        "}\n",
        "\n",
        "int main(){\n",
        "    Nodo n1={10,NULL};\n",
        "    Nodo n2={20,&n1};\n",
        "\n",
        "    Nodo *lista= &n2;\n",
        "    imprime_lista(lista);\n",
        "    insertar(lista, 30);\n",
        "    imprime_lista(lista);\n",
        "    return 0;\n",
        "    \n",
        "}\n"
      ],
      "metadata": {
        "colab": {
          "base_uri": "https://localhost:8080/"
        },
        "id": "V2AOT_ujDIKG",
        "outputId": "aee1db69-f205-4e24-9867-7f44e021f63e"
      },
      "execution_count": 7,
      "outputs": [
        {
          "output_type": "stream",
          "name": "stdout",
          "text": [
            "Writing listas_enl2.c\n"
          ]
        }
      ]
    },
    {
      "cell_type": "code",
      "source": [
        "%%script bash\n",
        "\n",
        "gcc listas_enl2.c -o list2"
      ],
      "metadata": {
        "id": "DR8uHl5VEidw"
      },
      "execution_count": 8,
      "outputs": []
    },
    {
      "cell_type": "code",
      "source": [
        "!./list2"
      ],
      "metadata": {
        "colab": {
          "base_uri": "https://localhost:8080/"
        },
        "id": "IWtPRg8XEwri",
        "outputId": "ab670266-e770-44ef-b981-7525a3a2044b"
      },
      "execution_count": 9,
      "outputs": [
        {
          "output_type": "stream",
          "name": "stdout",
          "text": [
            "20 -> 10 -> NULL\n",
            "20 -> 10 -> 30 -> NULL\n"
          ]
        }
      ]
    },
    {
      "cell_type": "markdown",
      "source": [
        "Ejercicio propuesto:\n",
        "\n",
        "escriba una función que elimine el último elemento de la lista, y una que elimine dado un valor."
      ],
      "metadata": {
        "id": "4CSwCnAWzgz4"
      }
    }
  ]
}