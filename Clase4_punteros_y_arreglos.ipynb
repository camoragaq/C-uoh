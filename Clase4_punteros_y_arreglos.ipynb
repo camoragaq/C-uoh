{
  "nbformat": 4,
  "nbformat_minor": 0,
  "metadata": {
    "colab": {
      "provenance": [],
      "collapsed_sections": [],
      "authorship_tag": "ABX9TyOPV49mEiWsGK9UN1DG3I+2",
      "include_colab_link": true
    },
    "kernelspec": {
      "name": "python3",
      "display_name": "Python 3"
    },
    "language_info": {
      "name": "python"
    }
  },
  "cells": [
    {
      "cell_type": "markdown",
      "metadata": {
        "id": "view-in-github",
        "colab_type": "text"
      },
      "source": [
        "<a href=\"https://colab.research.google.com/github/camoragaq/C-uoh/blob/main/Clase4_punteros_y_arreglos.ipynb\" target=\"_parent\"><img src=\"https://colab.research.google.com/assets/colab-badge.svg\" alt=\"Open In Colab\"/></a>"
      ]
    },
    {
      "cell_type": "markdown",
      "source": [
        "#Clase 4: 8 de Septiembre de 2022, Punteros y arreglos"
      ],
      "metadata": {
        "id": "_E5HwH_y_gxe"
      }
    },
    {
      "cell_type": "markdown",
      "source": [
        "Ejercicio 1: vamos a implementar una función que intercambie 2 valores."
      ],
      "metadata": {
        "id": "3Gl53XVABU4Z"
      }
    },
    {
      "cell_type": "code",
      "execution_count": null,
      "metadata": {
        "colab": {
          "base_uri": "https://localhost:8080/"
        },
        "id": "itRTwrjE_f6B",
        "outputId": "64a5cbf6-2783-4e60-b516-1c40d7d3898b"
      },
      "outputs": [
        {
          "output_type": "stream",
          "name": "stdout",
          "text": [
            "Overwriting swap.c\n"
          ]
        }
      ],
      "source": [
        "%%writefile swap.c\n",
        "\n",
        "#include <stdio.h>\n",
        "\n",
        "void swap(int a , int b){\n",
        "  int aux = a;\n",
        "  a = b;\n",
        "  b = aux;\n",
        "}\n",
        "\n",
        "int main(){\n",
        "  int a=1, b=2;\n",
        "  printf(\"Valores iniciales: a es igual a %d y b es igual a %d\\n\", a, b);\n",
        "  swap(a,b);\n",
        "  printf(\"Valores finales: a ahora es %d y b ahora es %d\\n\", a, b);\n",
        "\n",
        "  return 0;\n",
        "}"
      ]
    },
    {
      "cell_type": "code",
      "source": [
        "%%script bash\n",
        "\n",
        "gcc swap.c -o swap1"
      ],
      "metadata": {
        "id": "Wh5phV40AmY0"
      },
      "execution_count": null,
      "outputs": []
    },
    {
      "cell_type": "code",
      "source": [
        "!./swap1"
      ],
      "metadata": {
        "colab": {
          "base_uri": "https://localhost:8080/"
        },
        "id": "7A39aqX_ArC1",
        "outputId": "25f52732-1294-4e80-aaa7-3cd840fae1e8"
      },
      "execution_count": null,
      "outputs": [
        {
          "output_type": "stream",
          "name": "stdout",
          "text": [
            "Valores iniciales: a es igual a 1 y b es igual a 2\n",
            "Valores finales: a ahora es 2 y b ahora es 1\n"
          ]
        }
      ]
    },
    {
      "cell_type": "markdown",
      "source": [
        "Porque no funciona?"
      ],
      "metadata": {
        "id": "WCNfBehzBaCU"
      }
    },
    {
      "cell_type": "markdown",
      "source": [
        "Ejercicio 2: Implementa una función para crear una variable y nos devuelva la dirección de memoria."
      ],
      "metadata": {
        "id": "1vOnzbxdFx_a"
      }
    },
    {
      "cell_type": "code",
      "source": [
        "%%writefile getvar1.c\n",
        "\n",
        "#include <stdio.h>\n",
        "\n",
        "int *getvar(){\n",
        "  int x=1;\n",
        "  return &x;\n",
        "}\n",
        "\n",
        "int main(){\n",
        "  int *p = getvar();\n",
        "  printf(\"%d\\n\", *p);\n",
        "\n",
        "}"
      ],
      "metadata": {
        "colab": {
          "base_uri": "https://localhost:8080/"
        },
        "id": "3EE7r5uhF4_g",
        "outputId": "742f86e7-7a50-491d-f875-4ec8eab19812"
      },
      "execution_count": null,
      "outputs": [
        {
          "output_type": "stream",
          "name": "stdout",
          "text": [
            "Writing getvar1.c\n"
          ]
        }
      ]
    },
    {
      "cell_type": "code",
      "source": [
        "%%script bash\n",
        "\n",
        "gcc getvar1.c -o getvar1"
      ],
      "metadata": {
        "colab": {
          "base_uri": "https://localhost:8080/"
        },
        "id": "c0MA2GueGQiM",
        "outputId": "d247e8b3-8e18-4c70-efb3-751b97383c6f"
      },
      "execution_count": null,
      "outputs": [
        {
          "output_type": "stream",
          "name": "stderr",
          "text": [
            "getvar1.c: In function ‘getvar’:\n",
            "getvar1.c:6:10: warning: function returns address of local variable [-Wreturn-local-addr]\n",
            "   return &x;\n",
            "          ^~\n"
          ]
        }
      ]
    },
    {
      "cell_type": "code",
      "source": [
        "!./getvar1"
      ],
      "metadata": {
        "id": "yDwAhUtvIVa4"
      },
      "execution_count": null,
      "outputs": []
    },
    {
      "cell_type": "markdown",
      "source": [
        "Error de segmentación por la memoria"
      ],
      "metadata": {
        "id": "BzBOHRcGGsQx"
      }
    },
    {
      "cell_type": "markdown",
      "source": [
        "Solución: usando variables dinámicas"
      ],
      "metadata": {
        "id": "SsLinc9tH93m"
      }
    },
    {
      "cell_type": "code",
      "source": [
        "%%writefile getvar.c\n",
        "\n",
        "#include <stdio.h>\n",
        "#include <stdlib.h>\n",
        "\n",
        "int *getvar(){\n",
        "  int *q = malloc(sizeof(int));\n",
        "  *q = 1;\n",
        "  return q;\n",
        "}\n",
        "\n",
        "int main(){\n",
        "  int *p = getvar();\n",
        "  printf(\"%d\\n\", *p);\n",
        "  free(p);\n",
        "\n",
        "}"
      ],
      "metadata": {
        "colab": {
          "base_uri": "https://localhost:8080/"
        },
        "id": "PrmOdDuNHdlC",
        "outputId": "31ad30bb-4688-478f-e107-4c189636d556"
      },
      "execution_count": null,
      "outputs": [
        {
          "output_type": "stream",
          "name": "stdout",
          "text": [
            "Overwriting getvar.c\n"
          ]
        }
      ]
    },
    {
      "cell_type": "code",
      "source": [
        "%%script bash\n",
        "\n",
        "gcc getvar.c -o getvar"
      ],
      "metadata": {
        "id": "tx1BdwKWIECx"
      },
      "execution_count": null,
      "outputs": []
    },
    {
      "cell_type": "code",
      "source": [
        "!./getvar"
      ],
      "metadata": {
        "colab": {
          "base_uri": "https://localhost:8080/"
        },
        "id": "qOxRv1BLIOKE",
        "outputId": "667e8246-e311-4e1d-fdf6-d392f69fdc21"
      },
      "execution_count": null,
      "outputs": [
        {
          "output_type": "stream",
          "name": "stdout",
          "text": [
            "1\n"
          ]
        }
      ]
    },
    {
      "cell_type": "markdown",
      "source": [
        "La opción de (void *) para imprimir en Google colab las variables p, p*, &p:"
      ],
      "metadata": {
        "id": "X-_QgUT0EzKJ"
      }
    },
    {
      "cell_type": "code",
      "source": [
        "%%writefile getvar.c\n",
        "\n",
        "#include <stdio.h>\n",
        "#include <stdlib.h>\n",
        "\n",
        "int *getvar(){\n",
        "  int *q = malloc(sizeof(int));\n",
        "  *q = 1;\n",
        "  return q;\n",
        "}\n",
        "\n",
        "int main(){\n",
        "  int *p = getvar();\n",
        "  printf(\"%d\\n\", *((int *)p));//opcion de (void *)\n",
        "  free(p);\n",
        "\n",
        "}"
      ],
      "metadata": {
        "id": "gf3byHAxF0pI",
        "outputId": "63665261-ef1f-4c1a-cc1c-5d575ca59b9a",
        "colab": {
          "base_uri": "https://localhost:8080/"
        }
      },
      "execution_count": 12,
      "outputs": [
        {
          "output_type": "stream",
          "name": "stdout",
          "text": [
            "Overwriting getvar.c\n"
          ]
        }
      ]
    },
    {
      "cell_type": "markdown",
      "source": [
        "Ejercicio propuesto: Dado las variables int a = 10 y int b = 10, Cree sus respectivos punteros y muestre su valor."
      ],
      "metadata": {
        "id": "XXO4_o8NJsRw"
      }
    },
    {
      "cell_type": "markdown",
      "source": [
        "Si creamos 2 punteros para la misma variable, que valor tendrán esos punteros?"
      ],
      "metadata": {
        "id": "V4RMQDHuKvaa"
      }
    },
    {
      "cell_type": "markdown",
      "source": [
        "Ejercicio usando aritmética de punteros, arreglos y strings, implemente una función que calcule el largo dado un string.\n"
      ],
      "metadata": {
        "id": "_t7Lzxn5NNmj"
      }
    },
    {
      "cell_type": "code",
      "source": [
        "%%writefile largo.c\n",
        "\n",
        "#include <stdio.h>\n",
        "\n",
        "int str_len(char *s) {\n",
        "    int len = 0;\n",
        "    while (*s != 0) {\n",
        "        len++;\n",
        "        s++;\n",
        "    }\n",
        "    return len;\n",
        "}\n",
        "\n",
        "int main() {\n",
        "    printf(\"Largo de 'perro': %d\\n\", str_len(\"perro\"));\n",
        "    printf(\"Largo de 'programacion': %d\\n\", str_len(\"programacion\"));\n",
        "    \n",
        "    return 0;\n",
        "}"
      ],
      "metadata": {
        "colab": {
          "base_uri": "https://localhost:8080/"
        },
        "id": "fOU3TDyVN41M",
        "outputId": "9a35cb9a-d112-4c7a-87bc-e09e707d2fba"
      },
      "execution_count": null,
      "outputs": [
        {
          "output_type": "stream",
          "name": "stdout",
          "text": [
            "Overwriting largo.c\n"
          ]
        }
      ]
    },
    {
      "cell_type": "code",
      "source": [
        "%%script bash\n",
        "\n",
        "gcc largo.c -o largo"
      ],
      "metadata": {
        "id": "A3BPA5TAO39K"
      },
      "execution_count": null,
      "outputs": []
    },
    {
      "cell_type": "code",
      "source": [
        "!./largo"
      ],
      "metadata": {
        "colab": {
          "base_uri": "https://localhost:8080/"
        },
        "id": "1d2uHK7eO7jY",
        "outputId": "3cc6c5e0-446b-454e-9b50-0f9ddac0badd"
      },
      "execution_count": null,
      "outputs": [
        {
          "output_type": "stream",
          "name": "stdout",
          "text": [
            "Largo de 'perro': 5\n",
            "Largo de 'programacion': 12\n"
          ]
        }
      ]
    }
  ]
}