{
  "nbformat": 4,
  "nbformat_minor": 0,
  "metadata": {
    "colab": {
      "provenance": [],
      "collapsed_sections": [],
      "authorship_tag": "ABX9TyN/tDMAbB7s4jmmOZZdwa7f",
      "include_colab_link": true
    },
    "kernelspec": {
      "name": "python3",
      "display_name": "Python 3"
    },
    "language_info": {
      "name": "python"
    }
  },
  "cells": [
    {
      "cell_type": "markdown",
      "metadata": {
        "id": "view-in-github",
        "colab_type": "text"
      },
      "source": [
        "<a href=\"https://colab.research.google.com/github/camoragaq/C-uoh/blob/main/Clase8_threads.ipynb\" target=\"_parent\"><img src=\"https://colab.research.google.com/assets/colab-badge.svg\" alt=\"Open In Colab\"/></a>"
      ]
    },
    {
      "cell_type": "markdown",
      "source": [
        "##Threads en C"
      ],
      "metadata": {
        "id": "ELOEWSZdcKxi"
      }
    },
    {
      "cell_type": "markdown",
      "source": [
        "1. En este ejemplo repasaremos las principales funciones para el manejo de threads en C"
      ],
      "metadata": {
        "id": "OzSU2FsocNxM"
      }
    },
    {
      "cell_type": "code",
      "execution_count": 1,
      "metadata": {
        "colab": {
          "base_uri": "https://localhost:8080/"
        },
        "id": "fKy2ge-J8-Sl",
        "outputId": "7d8e7bb9-b826-49e4-c24a-8e381213273f"
      },
      "outputs": [
        {
          "output_type": "stream",
          "name": "stdout",
          "text": [
            "Writing hilo.c\n"
          ]
        }
      ],
      "source": [
        "%%writefile hilo.c\n",
        "\n",
        "#include <stdio.h>\n",
        "#include <string.h>\n",
        "#include <pthread.h>\n",
        "\n",
        "// Definimos una varibale global\n",
        "int i = 2;\n",
        "\n",
        "//funcion de inicio de thread\n",
        "void* foo(void* p){\n",
        "  printf(\"valor p = %i\\n\", * (int*)p);\n",
        "\n",
        "  // función de salida\n",
        "  pthread_exit(&i);\n",
        "}\n",
        "\n",
        "int main(void){\n",
        "  // Declaramos el objeto tread y su identificador\n",
        "  pthread_t id;\n",
        "\n",
        "  int j = 1;\n",
        "  //funcion para iniciar el hilo\n",
        "  pthread_create(&id, NULL, foo, &j);\n",
        "    \n",
        "  int* ptr;\n",
        "\n",
        "  // funcion que espera a foo y devuelve el valor en ptr\n",
        "  pthread_join(id, (void**)&ptr);\n",
        "  printf(\"Valor recibido desde el hijo: \");\n",
        "  printf(\"%i\\n\", *ptr);\n",
        "}"
      ]
    },
    {
      "cell_type": "code",
      "source": [
        "!gcc hilo.c -o hilo -lpthread"
      ],
      "metadata": {
        "id": "QUzvalueb10d"
      },
      "execution_count": 10,
      "outputs": []
    },
    {
      "cell_type": "code",
      "source": [
        "!./hilo"
      ],
      "metadata": {
        "colab": {
          "base_uri": "https://localhost:8080/"
        },
        "id": "zbFbEMuub4j2",
        "outputId": "7ebd6dec-f0d5-45be-b146-5398eee892cc"
      },
      "execution_count": 11,
      "outputs": [
        {
          "output_type": "stream",
          "name": "stdout",
          "text": [
            "valor p = 1\n",
            "Valor recibido desde el hijo: 2\n"
          ]
        }
      ]
    },
    {
      "cell_type": "markdown",
      "source": [
        "2. Otro ejemplo usando varios hilos"
      ],
      "metadata": {
        "id": "Xk9yLFlQcf8S"
      }
    },
    {
      "cell_type": "code",
      "source": [
        "%%writefile hilos2.c\n",
        "\n",
        "#include <stdio.h>\n",
        "#include <stdlib.h>\n",
        "#include <unistd.h>\n",
        "#include <pthread.h>\n",
        "#include <errno.h>\n",
        "#include <string.h>\n",
        "\n",
        "\n",
        "\n",
        "// declaramos una variable global para ser usada en los hilos\n",
        "int g = 0;\n",
        "\n",
        "// funcion ejecutada por los hilos\n",
        "void *mihilofun(void *vargp)\n",
        "{\n",
        "\t// guardamos el id del hilo\n",
        "\tint *myid = (int *)vargp;\n",
        "\n",
        "\t// inicializamos una variable local\n",
        "\t int s = 0;\n",
        "\n",
        "\t// cambiamos la variable local y global\n",
        "  //\t++s; ++g;\n",
        "  int iter=rand() % 50;\n",
        "  \n",
        "  //incrementamos la variable global en inter \n",
        "  for(int j=0; j< iter; j++) ++s, ++g;\n",
        "\t// imprimimos ambas variables\n",
        "\tprintf(\"ID Hilo: %d, Local: %d, Global: %d Random:%d\\n\", abs(*myid), s, g,iter);\n",
        "}\n",
        "\n",
        "//crea 5 hilos de manera dimamica y ejecuta la funcion mihilofun\n",
        "int main()\n",
        "{\n",
        "  int numero_hilos=5;\n",
        "  pthread_t *tid=(pthread_t *)malloc(numero_hilos * sizeof(pthread_t));\n",
        "\t// creamos 5 hilos\n",
        "\tfor (int i = 0; i < numero_hilos; i++){\n",
        "\t\t//pthread_create(&tid, NULL, mihilofun, (void *)&tid);\n",
        "    int err = pthread_create(&tid[i], NULL, &mihilofun, (void *)&(tid[i]));\n",
        "    if (err != 0){\n",
        "        printf(\"\\ncan't create thread :[%s]\", strerror(err));\n",
        "    }\n",
        "  }\n",
        "  //esperamos que los hilos terminen\n",
        "  for(int i=0; i< numero_hilos; ++i) pthread_join(tid[i], NULL);\n",
        "\n",
        "printf(\"come back to main\\n\");\n",
        "return 0;\n",
        "}"
      ],
      "metadata": {
        "colab": {
          "base_uri": "https://localhost:8080/"
        },
        "id": "lsmpTOKGcZWl",
        "outputId": "efe16504-984e-45e3-d17b-cb3bb9120a92"
      },
      "execution_count": 16,
      "outputs": [
        {
          "output_type": "stream",
          "name": "stdout",
          "text": [
            "Overwriting hilos2.c\n"
          ]
        }
      ]
    },
    {
      "cell_type": "code",
      "source": [
        "!gcc hilos2.c -o hilos2 -lpthread"
      ],
      "metadata": {
        "colab": {
          "base_uri": "https://localhost:8080/"
        },
        "id": "c3dAfVxlc6ic",
        "outputId": "7c8eb4f0-b98d-4a0d-b494-9ba0d3d49daf"
      },
      "execution_count": 17,
      "outputs": [
        {
          "output_type": "stream",
          "name": "stdout",
          "text": [
            "\u001b[01m\u001b[Khilos2.c:\u001b[m\u001b[K In function ‘\u001b[01m\u001b[Kmihilofun\u001b[m\u001b[K’:\n",
            "\u001b[01m\u001b[Khilos2.c:27:19:\u001b[m\u001b[K \u001b[01;31m\u001b[Kerror: \u001b[m\u001b[K‘\u001b[01m\u001b[Kiter\u001b[m\u001b[K’ undeclared (first use in this function)\n",
            "   for(int j=0; j< \u001b[01;31m\u001b[Kiter\u001b[m\u001b[K; j++) ++s, ++g;\n",
            "                   \u001b[01;31m\u001b[K^~~~\u001b[m\u001b[K\n",
            "\u001b[01m\u001b[Khilos2.c:27:19:\u001b[m\u001b[K \u001b[01;36m\u001b[Knote: \u001b[m\u001b[Keach undeclared identifier is reported only once for each function it appears in\n"
          ]
        }
      ]
    },
    {
      "cell_type": "code",
      "source": [
        "!./hilos2"
      ],
      "metadata": {
        "colab": {
          "base_uri": "https://localhost:8080/"
        },
        "id": "IC-y4zZXdONr",
        "outputId": "2128441c-98c2-4854-a70f-5d6b9ea6ee63"
      },
      "execution_count": 9,
      "outputs": [
        {
          "output_type": "stream",
          "name": "stdout",
          "text": [
            "ID Hilo: 810162432, Local: 33, Global: 33 Random:33\n",
            "ID Hilo: 826947840, Local: 36, Global: 69 Random:36\n",
            "ID Hilo: 835340544, Local: 15, Global: 111 Random:15\n",
            "ID Hilo: 843733248, Local: 27, Global: 96 Random:27\n",
            "ID Hilo: 818555136, Local: 43, Global: 154 Random:43\n",
            "come back to main\n"
          ]
        }
      ]
    },
    {
      "cell_type": "markdown",
      "source": [
        "Ejercicio propuesto: Calcule el factorial usando 2 threads:"
      ],
      "metadata": {
        "id": "mAqK_mKucVHD"
      }
    }
  ]
}