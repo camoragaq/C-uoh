{
  "nbformat": 4,
  "nbformat_minor": 0,
  "metadata": {
    "colab": {
      "provenance": [],
      "collapsed_sections": [],
      "authorship_tag": "ABX9TyNMVsgLQKANeNr3XVB139hQ",
      "include_colab_link": true
    },
    "kernelspec": {
      "name": "python3",
      "display_name": "Python 3"
    },
    "language_info": {
      "name": "python"
    }
  },
  "cells": [
    {
      "cell_type": "markdown",
      "metadata": {
        "id": "view-in-github",
        "colab_type": "text"
      },
      "source": [
        "<a href=\"https://colab.research.google.com/github/camoragaq/C-uoh/blob/main/Clase7_implementacion_arbol_binario_en_c.ipynb\" target=\"_parent\"><img src=\"https://colab.research.google.com/assets/colab-badge.svg\" alt=\"Open In Colab\"/></a>"
      ]
    },
    {
      "cell_type": "markdown",
      "source": [
        "##Implementación arbol binario en C"
      ],
      "metadata": {
        "id": "wuqynyk0Og-m"
      }
    },
    {
      "cell_type": "code",
      "execution_count": 18,
      "metadata": {
        "colab": {
          "base_uri": "https://localhost:8080/"
        },
        "id": "q1E-Vvv3Jdfc",
        "outputId": "c3210bca-1bcc-472d-a36d-1193d022a3e8"
      },
      "outputs": [
        {
          "output_type": "stream",
          "name": "stdout",
          "text": [
            "Overwriting arbol.c\n"
          ]
        }
      ],
      "source": [
        "%%writefile arbol.c\n",
        "\n",
        "#include <stdio.h>\n",
        "#include <stdlib.h>\n",
        "\n",
        "struct node {\n",
        "\tint data;\n",
        "\tstruct node* left;\n",
        "\tstruct node* right;\n",
        "};\n",
        "\n",
        "\n",
        "// nuevonodo crea un nodo dado un valor y deja sus punteros a NULL\n",
        "struct node* nuevonodo(int data)\n",
        "{\n",
        "\tstruct node* node\t= (struct node*)malloc(sizeof(struct node));\n",
        "\tnode->data = data;\n",
        "\tnode->left = NULL;\n",
        "\tnode->right = NULL;\n",
        "\treturn (node);\n",
        "}\n",
        "\n",
        "void imprimir(struct node *nodo) {\n",
        "    \n",
        "\n",
        "    \n",
        "}\n",
        "\n",
        "int main()\n",
        "{\n",
        "\t//creamos la instancia nodo\n",
        "\tstruct node* root = nuevonodo(1);\n",
        "  //luego agregar los nodos hijos (nodos hojas)\n",
        "\n",
        "\troot->left = nuevonodo(2);\n",
        "\troot->right = nuevonodo(3);\n",
        "\t\n",
        "  //agregar la siguiente generación (nivel)\n",
        "\troot->left->left = nuevonodo(4);\n",
        "\n",
        "\timprimir(root);\n",
        "\treturn 0;\n",
        "}\n"
      ]
    },
    {
      "cell_type": "code",
      "source": [
        "%%script bash\n",
        "\n",
        "gcc arbol.c -o arbol"
      ],
      "metadata": {
        "id": "UgEyIiHNNRIB"
      },
      "execution_count": 19,
      "outputs": []
    },
    {
      "cell_type": "code",
      "source": [
        "!./arbol"
      ],
      "metadata": {
        "colab": {
          "base_uri": "https://localhost:8080/"
        },
        "id": "zxPYLYWYNZ_R",
        "outputId": "70e3d5ad-c616-4c76-896d-5a3ed9985ee4"
      },
      "execution_count": 20,
      "outputs": [
        {
          "output_type": "stream",
          "name": "stdout",
          "text": [
            "1,2,4,3,"
          ]
        }
      ]
    }
  ]
}