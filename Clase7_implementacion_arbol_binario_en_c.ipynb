{
  "nbformat": 4,
  "nbformat_minor": 0,
  "metadata": {
    "colab": {
      "provenance": [],
      "collapsed_sections": [],
      "authorship_tag": "ABX9TyNMxuit1JjuQJ9E9WD4J4bq",
      "include_colab_link": true
    },
    "kernelspec": {
      "name": "python3",
      "display_name": "Python 3"
    },
    "language_info": {
      "name": "python"
    }
  },
  "cells": [
    {
      "cell_type": "markdown",
      "metadata": {
        "id": "view-in-github",
        "colab_type": "text"
      },
      "source": [
        "<a href=\"https://colab.research.google.com/github/camoragaq/C-uoh/blob/main/Clase7_implementacion_arbol_binario_en_c.ipynb\" target=\"_parent\"><img src=\"https://colab.research.google.com/assets/colab-badge.svg\" alt=\"Open In Colab\"/></a>"
      ]
    },
    {
      "cell_type": "markdown",
      "source": [
        "##Implementación arbol binario en C"
      ],
      "metadata": {
        "id": "wuqynyk0Og-m"
      }
    },
    {
      "cell_type": "code",
      "execution_count": null,
      "metadata": {
        "colab": {
          "base_uri": "https://localhost:8080/"
        },
        "id": "q1E-Vvv3Jdfc",
        "outputId": "c3210bca-1bcc-472d-a36d-1193d022a3e8"
      },
      "outputs": [
        {
          "output_type": "stream",
          "name": "stdout",
          "text": [
            "Overwriting arbol.c\n"
          ]
        }
      ],
      "source": [
        "%%writefile arbol.c\n",
        "\n",
        "#include <stdio.h>\n",
        "#include <stdlib.h>\n",
        "\n",
        "struct node {\n",
        "\tint data;\n",
        "\tstruct node* left;\n",
        "\tstruct node* right;\n",
        "};\n",
        "\n",
        "\n",
        "// nuevonodo crea un nodo dado un valor y deja sus punteros a NULL\n",
        "struct node* nuevonodo(int data)\n",
        "{\n",
        "\tstruct node* node\t= (struct node*)malloc(sizeof(struct node));\n",
        "\tnode->data = data;\n",
        "\tnode->left = NULL;\n",
        "\tnode->right = NULL;\n",
        "\treturn (node);\n",
        "}\n",
        "\n",
        "void imprimir(struct node *nodo) {\n",
        "    \n",
        "\n",
        "    \n",
        "}\n",
        "\n",
        "int main()\n",
        "{\n",
        "\t//creamos la instancia nodo\n",
        "\tstruct node* root = nuevonodo(1);\n",
        "  //luego agregar los nodos hijos (nodos hojas)\n",
        "\n",
        "\troot->left = nuevonodo(2);\n",
        "\troot->right = nuevonodo(3);\n",
        "\t\n",
        "  //agregar la siguiente generación (nivel)\n",
        "\troot->left->left = nuevonodo(4);\n",
        "\n",
        "\timprimir(root);\n",
        "\treturn 0;\n",
        "}\n"
      ]
    },
    {
      "cell_type": "code",
      "source": [
        "%%script bash\n",
        "\n",
        "gcc arbol.c -o arbol"
      ],
      "metadata": {
        "id": "UgEyIiHNNRIB"
      },
      "execution_count": null,
      "outputs": []
    },
    {
      "cell_type": "code",
      "source": [
        "!./arbol"
      ],
      "metadata": {
        "colab": {
          "base_uri": "https://localhost:8080/"
        },
        "id": "zxPYLYWYNZ_R",
        "outputId": "70e3d5ad-c616-4c76-896d-5a3ed9985ee4"
      },
      "execution_count": null,
      "outputs": [
        {
          "output_type": "stream",
          "name": "stdout",
          "text": [
            "1,2,4,3,"
          ]
        }
      ]
    },
    {
      "cell_type": "markdown",
      "source": [
        "Ejemplo de manejo de archivo en C:\n",
        "Acá usamos la función que saca cada caracter dentro de un archivo, no olviden cargar primero el archivo para que lo lea, como lo hicimos en clases."
      ],
      "metadata": {
        "id": "1wMPQ9GKn-Ky"
      }
    },
    {
      "cell_type": "code",
      "source": [
        "%%writefile file.c\n",
        "\n",
        "#include <stdio.h>\n",
        "#include <stdlib.h>\n",
        "\n",
        "int main()\n",
        "{\n",
        "\tFILE *fichero;\n",
        "\tchar letra;\n",
        "\n",
        "\tfichero = fopen(\"origen.txt\",\"r\");\n",
        "\tif (fichero == NULL) {\n",
        "\t\tprintf( \"No se puede abrir el fichero.\\n\" );\n",
        "\t\texit( 1 );\n",
        "\t}\n",
        "\n",
        "\tprintf( \"Contenido del fichero:\\n\" );\n",
        "\tletra = getc(fichero);\n",
        "\twhile (feof(fichero) == 0) {\n",
        "\t\tprintf( \"%c\",letra );\n",
        "\t\tletra = getc(fichero);\n",
        "\t}\n",
        "\n",
        "\tif (fclose(fichero)!= 0)\n",
        "\t\tprintf( \"Problemas al cerrar el fichero\\n\" );\n",
        "}"
      ],
      "metadata": {
        "colab": {
          "base_uri": "https://localhost:8080/"
        },
        "id": "C86rzzB6oADK",
        "outputId": "da0e2711-1286-4fe1-95df-3a20202b8e71"
      },
      "execution_count": null,
      "outputs": [
        {
          "output_type": "stream",
          "name": "stdout",
          "text": [
            "Overwriting file.c\n"
          ]
        }
      ]
    },
    {
      "cell_type": "code",
      "source": [
        "%%script bash\n",
        "\n",
        "gcc file.c -o file"
      ],
      "metadata": {
        "id": "haXFWN4KoKw3"
      },
      "execution_count": null,
      "outputs": []
    },
    {
      "cell_type": "code",
      "source": [
        "!./file"
      ],
      "metadata": {
        "id": "G1MAtQa-obHQ"
      },
      "execution_count": null,
      "outputs": []
    },
    {
      "cell_type": "markdown",
      "source": [
        "Leer contenido desde el archivo:\n",
        "En este ejemplo podrás leer línea a línea."
      ],
      "metadata": {
        "id": "A7JM2dV4snro"
      }
    },
    {
      "cell_type": "code",
      "source": [
        "%%writefile file2.c\n",
        "\n",
        "#include <stdio.h>\n",
        "#include <string.h>\n",
        "\n",
        "#define NOMBRE_ARCHIVO \"archivo.txt\"\n",
        "#define LONGITUD_MAXIMA_CADENA 1000\n",
        "\n",
        "int main(void)\n",
        "{\n",
        "    FILE *archivo = fopen(\"origen.txt\", \"r\"); // Modo lectura\n",
        "    char bufer[LONGITUD_MAXIMA_CADENA];         // Aquí vamos a ir almacenando cada línea\n",
        "    while (fgets(bufer, LONGITUD_MAXIMA_CADENA, archivo))//acá leemos la línea completa y el while se moverá línea a línea\n",
        "    {\n",
        "        // Aquí, justo ahora, tenemos ya la línea. Le vamos a remover el salto\n",
        "        strtok(bufer, \"\\n\");//strtok() es nuestra función split() de python en C\n",
        "        // La imprimimos, pero realmente podríamos hacer cualquier otra cosa, como por ejemplo usar los datos para crear los nodos de nuestro arbol\n",
        "        printf(\"La línea es: '%s'\\n\", bufer);\n",
        "    }\n",
        "    return 0;\n",
        "}"
      ],
      "metadata": {
        "id": "pIw5CpgasmXt",
        "outputId": "00ed28b2-b060-49af-fff7-2ddc34b8438e",
        "colab": {
          "base_uri": "https://localhost:8080/"
        }
      },
      "execution_count": 7,
      "outputs": [
        {
          "output_type": "stream",
          "name": "stdout",
          "text": [
            "Overwriting file2.c\n"
          ]
        }
      ]
    },
    {
      "cell_type": "code",
      "source": [
        "%%script bash\n",
        "\n",
        "gcc file2.c -o file2"
      ],
      "metadata": {
        "id": "gvyivviDug5U"
      },
      "execution_count": 8,
      "outputs": []
    },
    {
      "cell_type": "code",
      "source": [
        "!./file2"
      ],
      "metadata": {
        "id": "9EWRadtQu885",
        "outputId": "98f3869e-3a02-477a-e01e-d14eb87a5ef3",
        "colab": {
          "base_uri": "https://localhost:8080/"
        }
      },
      "execution_count": 9,
      "outputs": [
        {
          "output_type": "stream",
          "name": "stdout",
          "text": [
            "La línea es: 'Hola mundo!'\n"
          ]
        }
      ]
    }
  ]
}