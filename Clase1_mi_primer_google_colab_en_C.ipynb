{
  "nbformat": 4,
  "nbformat_minor": 0,
  "metadata": {
    "colab": {
      "name": "Clase1-mi-primer-google-colab-en-C.ipynb",
      "provenance": [],
      "collapsed_sections": [],
      "authorship_tag": "ABX9TyPT0mg9eYS+i3LqkRNMBe4G",
      "include_colab_link": true
    },
    "kernelspec": {
      "name": "python3",
      "display_name": "Python 3"
    },
    "language_info": {
      "name": "python"
    }
  },
  "cells": [
    {
      "cell_type": "markdown",
      "metadata": {
        "id": "view-in-github",
        "colab_type": "text"
      },
      "source": [
        "<a href=\"https://colab.research.google.com/github/camoragaq/C-uoh/blob/main/Clase1_mi_primer_google_colab_en_C.ipynb\" target=\"_parent\"><img src=\"https://colab.research.google.com/assets/colab-badge.svg\" alt=\"Open In Colab\"/></a>"
      ]
    },
    {
      "cell_type": "markdown",
      "source": [
        "#Clase 1: 29 de Agosto de 2022, Introducción a C en Google Colab"
      ],
      "metadata": {
        "id": "rFcM6YB3AV5p"
      }
    },
    {
      "cell_type": "markdown",
      "source": [
        "##Nuestro primer código en C usando Google Colab: Hola Mundo"
      ],
      "metadata": {
        "id": "Ceq-GmEO9su_"
      }
    },
    {
      "cell_type": "markdown",
      "source": [
        "1. primero debemos escribir el código usando la primera línea %%writefile que va a crear nuestro código en Google Colab"
      ],
      "metadata": {
        "id": "tP2m0-qwinfe"
      }
    },
    {
      "cell_type": "code",
      "execution_count": null,
      "metadata": {
        "colab": {
          "base_uri": "https://localhost:8080/"
        },
        "id": "lj3kQaSA9r6F",
        "outputId": "c95768ab-5dec-4e76-e831-78dfeaf4ae5e"
      },
      "outputs": [
        {
          "output_type": "stream",
          "name": "stdout",
          "text": [
            "Writing holamundo.c\n"
          ]
        }
      ],
      "source": [
        "%%writefile holamundo.c\n",
        "\n",
        "#include <stdio.h>\n",
        "\n",
        "int main()\n",
        "{\n",
        "  printf(\"hola mundo\\n\");\n",
        "}\n"
      ]
    },
    {
      "cell_type": "markdown",
      "source": [
        "2. Luego compilamos el código usando la línea %%script bash y creamos el ejecutable"
      ],
      "metadata": {
        "id": "ks4vV4XbizOz"
      }
    },
    {
      "cell_type": "code",
      "source": [
        "%%script bash\n",
        "\n",
        "gcc holamundo.c -o hola"
      ],
      "metadata": {
        "id": "M-eO9SVW-Z99"
      },
      "execution_count": null,
      "outputs": []
    },
    {
      "cell_type": "markdown",
      "source": [
        "3. Finalmente, ejecutamos el código usando el archivo ejecutable previamente creado"
      ],
      "metadata": {
        "id": "ScLRv6r8i55c"
      }
    },
    {
      "cell_type": "code",
      "source": [
        "!./hola"
      ],
      "metadata": {
        "colab": {
          "base_uri": "https://localhost:8080/"
        },
        "id": "HWEhkhF0_Cxk",
        "outputId": "fbd6513b-ee0d-4009-c7ee-f920cebb88aa"
      },
      "execution_count": null,
      "outputs": [
        {
          "output_type": "stream",
          "name": "stdout",
          "text": [
            "hola mundo\n"
          ]
        }
      ]
    },
    {
      "cell_type": "markdown",
      "source": [
        "##Representamos la serie fibonacci en C"
      ],
      "metadata": {
        "id": "E6niiKkQAKK8"
      }
    },
    {
      "cell_type": "markdown",
      "source": [
        "1. Ejemplo de como seria la serie fibonacci en C usando los 3 pasos previamente descritos\n"
      ],
      "metadata": {
        "id": "_v-yDowajG5N"
      }
    },
    {
      "cell_type": "code",
      "source": [
        "%%writefile fibonacci.c\n",
        "\n",
        "#include <stdio.h>\n",
        "#include <stdlib.h>\n",
        " \n",
        "int main(int argc, char *argv[]) {\n",
        "  int n= atoi(argv[1]);\n",
        "  int prev= 0;\n",
        "  printf(\"f0= 0\\n\");\n",
        "  int curr= 1;\n",
        "  int next;\n",
        "  printf(\"f1= 1\\n\");\n",
        "  for (int i= 2; i<n; i++) {\n",
        "    next= prev+curr;\n",
        "    printf(\"f%d= %d\\n\", i, next);\n",
        "    prev= curr;\n",
        "    curr= next;\n",
        "  }\n",
        "  return 0;\n",
        "}\n"
      ],
      "metadata": {
        "colab": {
          "base_uri": "https://localhost:8080/"
        },
        "id": "vy3htxr-_whA",
        "outputId": "be079ae0-d166-4517-95f6-99f4d612ae99"
      },
      "execution_count": null,
      "outputs": [
        {
          "output_type": "stream",
          "name": "stdout",
          "text": [
            "Overwriting fibonacci.c\n"
          ]
        }
      ]
    },
    {
      "cell_type": "code",
      "source": [
        "%%script bash\n",
        "\n",
        "gcc fibonacci.c -o fibbo "
      ],
      "metadata": {
        "id": "9hwAK8yu_3un"
      },
      "execution_count": null,
      "outputs": []
    },
    {
      "cell_type": "code",
      "source": [
        "#cuando ejecutamos le pasamos un número entero para recrear la serie fibonacci\n",
        "!./fibbo 30"
      ],
      "metadata": {
        "colab": {
          "base_uri": "https://localhost:8080/"
        },
        "id": "hrvfbSm3_-As",
        "outputId": "97068a65-0994-40b4-b663-a4166f166bb0"
      },
      "execution_count": null,
      "outputs": [
        {
          "output_type": "stream",
          "name": "stdout",
          "text": [
            "f0= 0\n",
            "f1= 1\n",
            "f2= 1\n",
            "f3= 2\n",
            "f4= 3\n",
            "f5= 5\n",
            "f6= 8\n",
            "f7= 13\n",
            "f8= 21\n",
            "f9= 34\n",
            "f10= 55\n",
            "f11= 89\n",
            "f12= 144\n",
            "f13= 233\n",
            "f14= 377\n",
            "f15= 610\n",
            "f16= 987\n",
            "f17= 1597\n",
            "f18= 2584\n",
            "f19= 4181\n",
            "f20= 6765\n",
            "f21= 10946\n",
            "f22= 17711\n",
            "f23= 28657\n",
            "f24= 46368\n",
            "f25= 75025\n",
            "f26= 121393\n",
            "f27= 196418\n",
            "f28= 317811\n",
            "f29= 514229\n"
          ]
        }
      ]
    },
    {
      "cell_type": "markdown",
      "source": [
        "##Ejercicio usando tipos de dato entero, debe realizar una suma"
      ],
      "metadata": {
        "id": "QPJhA8c1jgxY"
      }
    },
    {
      "cell_type": "code",
      "source": [
        "%%writefile suma.c\n",
        "#include <stdio.h>\n",
        "\n",
        "int suma(int a, int b){\n",
        "  int s=a+b;\n",
        "  return s;\n",
        "}\n",
        "\n",
        "int main(){\n",
        "   int a=5;\n",
        "   int b=5;\n",
        "   int resultado=suma(a,b);\n",
        "   printf(\"la suma de %d + %d es igual a %d\\n\", a, b, resultado);\n",
        "   return 0;\n",
        "}"
      ],
      "metadata": {
        "id": "fq1QDFULfsgs",
        "outputId": "3a24fdf4-9bcb-4372-c24a-d7e195106be8",
        "colab": {
          "base_uri": "https://localhost:8080/"
        }
      },
      "execution_count": null,
      "outputs": [
        {
          "output_type": "stream",
          "name": "stdout",
          "text": [
            "Writing suma.c\n"
          ]
        }
      ]
    },
    {
      "cell_type": "code",
      "source": [
        "%%script bash\n",
        "\n",
        "gcc suma.c -o suma "
      ],
      "metadata": {
        "id": "FKfxaZRsgrDO"
      },
      "execution_count": null,
      "outputs": []
    },
    {
      "cell_type": "code",
      "source": [
        "!./suma "
      ],
      "metadata": {
        "id": "Ixa_7jPPg3S_",
        "outputId": "3ae1e56e-0ec9-4da7-b26f-9e3fc696361d",
        "colab": {
          "base_uri": "https://localhost:8080/"
        }
      },
      "execution_count": null,
      "outputs": [
        {
          "output_type": "stream",
          "name": "stdout",
          "text": [
            "la suma de 5 + 5 es igual a 10\n"
          ]
        }
      ]
    },
    {
      "cell_type": "markdown",
      "source": [
        "## Ejercicio para la casa:\n",
        "Escriba una función en C que reciba un número entero natural mayor a 0 y retorne la suma de todos los números hasta llegar a 0:\n",
        "\n",
        "![image.png](data:image/png;base64,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)"
      ],
      "metadata": {
        "id": "XWXDQSJhiTHV"
      }
    },
    {
      "cell_type": "code",
      "source": [],
      "metadata": {
        "id": "Qa0RUVF9kLDy"
      },
      "execution_count": null,
      "outputs": []
    }
  ]
}