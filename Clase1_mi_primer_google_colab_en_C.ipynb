{
  "nbformat": 4,
  "nbformat_minor": 0,
  "metadata": {
    "colab": {
      "name": "Clase1-mi-primer-google-colab-en-C.ipynb",
      "provenance": [],
      "collapsed_sections": [],
      "authorship_tag": "ABX9TyONR+KnHvY790WNYYEVNwFU",
      "include_colab_link": true
    },
    "kernelspec": {
      "name": "python3",
      "display_name": "Python 3"
    },
    "language_info": {
      "name": "python"
    }
  },
  "cells": [
    {
      "cell_type": "markdown",
      "metadata": {
        "id": "view-in-github",
        "colab_type": "text"
      },
      "source": [
        "<a href=\"https://colab.research.google.com/github/camoragaq/C-uoh/blob/main/Clase1_mi_primer_google_colab_en_C.ipynb\" target=\"_parent\"><img src=\"https://colab.research.google.com/assets/colab-badge.svg\" alt=\"Open In Colab\"/></a>"
      ]
    },
    {
      "cell_type": "markdown",
      "source": [
        "#Clase 1: 29 de Agosto de 2022, Introducción a C en Google Colab"
      ],
      "metadata": {
        "id": "rFcM6YB3AV5p"
      }
    },
    {
      "cell_type": "markdown",
      "source": [
        "##Nuestro primer código en C usando Google Colab: Hola Mundo"
      ],
      "metadata": {
        "id": "Ceq-GmEO9su_"
      }
    },
    {
      "cell_type": "markdown",
      "source": [
        "1. primero debemos escribir el código usando la primera línea %%writefile que va a crear nuestro código en Google Colab"
      ],
      "metadata": {
        "id": "tP2m0-qwinfe"
      }
    },
    {
      "cell_type": "code",
      "execution_count": 3,
      "metadata": {
        "colab": {
          "base_uri": "https://localhost:8080/"
        },
        "id": "lj3kQaSA9r6F",
        "outputId": "bb6647f5-abc4-4740-afff-eaf0c011c07f"
      },
      "outputs": [
        {
          "output_type": "stream",
          "name": "stdout",
          "text": [
            "Overwriting holamundo.c\n"
          ]
        }
      ],
      "source": [
        "%%writefile holamundo.c\n",
        "\n",
        "#include <stdio.h>\n",
        "\n",
        "int main()\n",
        "{\n",
        "  printf(\"hola mundo\\n\");\n",
        "}\n"
      ]
    },
    {
      "cell_type": "markdown",
      "source": [
        "2. Luego compilamos el código usando la línea %%script bash y creamos el ejecutable"
      ],
      "metadata": {
        "id": "ks4vV4XbizOz"
      }
    },
    {
      "cell_type": "code",
      "source": [
        "%%script bash\n",
        "\n",
        "gcc holamundo.c -o holamundo "
      ],
      "metadata": {
        "id": "M-eO9SVW-Z99"
      },
      "execution_count": 4,
      "outputs": []
    },
    {
      "cell_type": "markdown",
      "source": [
        "3. Finalmente, ejecutamos el código usando el archivo ejecutable previamente creado"
      ],
      "metadata": {
        "id": "ScLRv6r8i55c"
      }
    },
    {
      "cell_type": "code",
      "source": [
        "!./holamundo"
      ],
      "metadata": {
        "colab": {
          "base_uri": "https://localhost:8080/"
        },
        "id": "HWEhkhF0_Cxk",
        "outputId": "25ccb7db-e82c-4863-cd4b-3b7c5aff60a2"
      },
      "execution_count": 5,
      "outputs": [
        {
          "output_type": "stream",
          "name": "stdout",
          "text": [
            "hola mundo\n"
          ]
        }
      ]
    },
    {
      "cell_type": "markdown",
      "source": [
        "##Representamos la serie fibonacci en C"
      ],
      "metadata": {
        "id": "E6niiKkQAKK8"
      }
    },
    {
      "cell_type": "markdown",
      "source": [
        "1. Ejemplo de como seria la serie fibonacci en C usando los 3 pasos previamente descritos\n"
      ],
      "metadata": {
        "id": "_v-yDowajG5N"
      }
    },
    {
      "cell_type": "code",
      "source": [
        "%%writefile fibonacci.c\n",
        "\n",
        "#include <stdio.h>\n",
        "#include <stdlib.h>\n",
        " \n",
        "int main(int argc, char *argv[]) {\n",
        "  int n= atoi(argv[1]);\n",
        "  int prev= 0;\n",
        "  printf(\"f0= 0\\n\");\n",
        "  int curr= 1;\n",
        "  int next;\n",
        "  printf(\"f1= 1\\n\");\n",
        "  for (int i= 2; i<n; i++) {\n",
        "    next= prev+curr;\n",
        "    printf(\"f%d= %d\\n\", i, next);\n",
        "    prev= curr;\n",
        "    curr= next;\n",
        "  }\n",
        "  return 0;\n",
        "}\n"
      ],
      "metadata": {
        "colab": {
          "base_uri": "https://localhost:8080/"
        },
        "id": "vy3htxr-_whA",
        "outputId": "d66dc576-ad6a-4d13-fe17-c13a1a5cb2b9"
      },
      "execution_count": 6,
      "outputs": [
        {
          "output_type": "stream",
          "name": "stdout",
          "text": [
            "Writing fibbonacci.c\n"
          ]
        }
      ]
    },
    {
      "cell_type": "code",
      "source": [
        "%%script bash\n",
        "\n",
        "gcc fibonacci.c -o fibbo "
      ],
      "metadata": {
        "id": "9hwAK8yu_3un"
      },
      "execution_count": 7,
      "outputs": []
    },
    {
      "cell_type": "code",
      "source": [
        "#cuando ejecutamos le pasamos un número entero para recrear la serie fibonacci\n",
        "!./fibo 10"
      ],
      "metadata": {
        "colab": {
          "base_uri": "https://localhost:8080/"
        },
        "id": "hrvfbSm3_-As",
        "outputId": "02456d29-a781-41be-a23f-4e16a18fe301"
      },
      "execution_count": 9,
      "outputs": [
        {
          "output_type": "stream",
          "name": "stdout",
          "text": [
            "f0= 0\n",
            "f1= 1\n",
            "f2= 1\n",
            "f3= 2\n",
            "f4= 3\n",
            "f5= 5\n",
            "f6= 8\n",
            "f7= 13\n",
            "f8= 21\n",
            "f9= 34\n"
          ]
        }
      ]
    },
    {
      "cell_type": "markdown",
      "source": [
        "##Ejercicio usando tipos de entero, y realizar una suma"
      ],
      "metadata": {
        "id": "QPJhA8c1jgxY"
      }
    }
  ]
}