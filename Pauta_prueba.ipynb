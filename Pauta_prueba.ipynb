{
  "nbformat": 4,
  "nbformat_minor": 0,
  "metadata": {
    "colab": {
      "provenance": [],
      "collapsed_sections": [],
      "authorship_tag": "ABX9TyO8QwMhxGw4cXwpLIjiFWVg",
      "include_colab_link": true
    },
    "kernelspec": {
      "name": "python3",
      "display_name": "Python 3"
    },
    "language_info": {
      "name": "python"
    }
  },
  "cells": [
    {
      "cell_type": "markdown",
      "metadata": {
        "id": "view-in-github",
        "colab_type": "text"
      },
      "source": [
        "<a href=\"https://colab.research.google.com/github/camoragaq/C-uoh/blob/main/Pauta_prueba.ipynb\" target=\"_parent\"><img src=\"https://colab.research.google.com/assets/colab-badge.svg\" alt=\"Open In Colab\"/></a>"
      ]
    },
    {
      "cell_type": "markdown",
      "source": [
        "## Pauta prueba"
      ],
      "metadata": {
        "id": "fzDgOV13d6um"
      }
    },
    {
      "cell_type": "markdown",
      "source": [
        "1. Que es la programación de Software de Sistemas y para que sirve?\n",
        "\n",
        "Provee servicios a otro software, programación para administrar el hardware (memoria) de la maquina. "
      ],
      "metadata": {
        "id": "OiSZwTwTh9qS"
      }
    },
    {
      "cell_type": "markdown",
      "source": [
        "2. Para que sirve un puntero? \n",
        "\n",
        "Sirve para identificar una variable directo a su dirección de memoria en el computador donde se encuentra."
      ],
      "metadata": {
        "id": "kE8x7NYlisKw"
      }
    },
    {
      "cell_type": "markdown",
      "source": [
        "3. Para que sirven las estructuras en C?\n",
        "\n",
        "a) es la manera de representar una situación o acción de la vida real."
      ],
      "metadata": {
        "id": "qZRVc4NMi6Jl"
      }
    },
    {
      "cell_type": "markdown",
      "source": [
        "4. Dada la siguiente estructura, como se crea o inicializa una instancia?"
      ],
      "metadata": {
        "id": "CDX0k-TyjHMR"
      }
    },
    {
      "cell_type": "code",
      "source": [
        "struct casa{\n",
        "    char color[15];\n",
        "    int ventanas;\n",
        "    char direccion[20];\n",
        "} Home;\n",
        "\n",
        "a) b) c) correctas"
      ],
      "metadata": {
        "id": "QmgmhFscjTo8"
      },
      "execution_count": null,
      "outputs": []
    },
    {
      "cell_type": "markdown",
      "source": [
        "5. Los atributos se pueden acceder usando notación de:\n",
        "\n",
        "a) punto\n"
      ],
      "metadata": {
        "id": "aot7BaWpkxm3"
      }
    },
    {
      "cell_type": "markdown",
      "source": [
        "6. Dado los operadores de bits, complete:"
      ],
      "metadata": {
        "id": "g1r8qRG84cf3"
      }
    },
    {
      "cell_type": "code",
      "source": [
        "%%writefile ej6.c\n",
        "#include <stdio.h>\n",
        "\n",
        "int main(){\n",
        "\n",
        "\n",
        "   int a=255, r=1, m=32;\n",
        "\n",
        "   r = r | m;\n",
        "\n",
        "   printf(\"r = r | m = %d\\n\", r);\n",
        "\n",
        "   r = 1;\n",
        "   r = a >> 7;\n",
        "\n",
        "   printf(\"r = a >> 7 = %d\\n\", r);\n",
        "\n",
        "   r = 1;\n",
        "   r= m & a;\n",
        "\n",
        "   printf(\"r = m & a = %d\\n\", r);\n",
        "\n",
        "   m = 32;\n",
        "   a = 255;\n",
        "   r = 1;\n",
        "   m = a ^ ~r;\n",
        "\n",
        "   printf(\"m = a & ~r = %d\\n\", m);\n",
        "    \n",
        "}"
      ],
      "metadata": {
        "colab": {
          "base_uri": "https://localhost:8080/"
        },
        "id": "76WeZMYHlDBQ",
        "outputId": "c12a7b94-a49f-4cc2-9613-8be39f1d72cc"
      },
      "execution_count": 4,
      "outputs": [
        {
          "output_type": "stream",
          "name": "stdout",
          "text": [
            "Overwriting ej6.c\n"
          ]
        }
      ]
    },
    {
      "cell_type": "code",
      "source": [
        "%%script bash\n",
        "\n",
        "gcc ej6.c -o ej6"
      ],
      "metadata": {
        "id": "r5I8NIpI47K3"
      },
      "execution_count": 5,
      "outputs": []
    },
    {
      "cell_type": "code",
      "source": [
        "!./ej6"
      ],
      "metadata": {
        "colab": {
          "base_uri": "https://localhost:8080/"
        },
        "id": "J078NJte6Hpi",
        "outputId": "7b8da69f-7419-4a86-cbb5-0daae7e4f104"
      },
      "execution_count": 6,
      "outputs": [
        {
          "output_type": "stream",
          "name": "stdout",
          "text": [
            "r = r | m = 33\n",
            "r = a >> 7 = 1\n",
            "r = m & a = 32\n",
            "m = a & ~r = -255\n"
          ]
        }
      ]
    },
    {
      "cell_type": "markdown",
      "source": [
        "7. Defina una estructura paciente() que tenga los atributos nombre, edad y enfermedades; luego cree una estructura paciente \"cero\" con dichos atributos. Además implemente una función para agregar nuevos pacientes:"
      ],
      "metadata": {
        "id": "zIBEB3Acmu5H"
      }
    },
    {
      "cell_type": "code",
      "source": [
        "%%writefile ej7.c\n",
        "\n",
        "#include <stdio.h>\n",
        "#include <string.h>\n",
        "#include <stdlib.h>\n",
        "\n",
        "typedef struct paciente{\n",
        "    char nombre[10];\n",
        "    int edad;\n",
        "    char enfermedades[20];\n",
        "    struct paciente *next;\n",
        "}paciente;\n",
        "\n",
        "//para recorrer los pacientes\n",
        "paciente *lista; \n",
        "\n",
        "void agrega_paciente(char* nombre, int edad, char* enfermedades){\n",
        "    \n",
        "   paciente *tmp=(paciente *) malloc(sizeof(paciente));\n",
        "   \n",
        "   tmp->edad=edad;\n",
        "   strcpy(tmp->enfermedades, enfermedades);\n",
        "   strcpy(tmp->nombre, nombre);\n",
        "\n",
        "   tmp->next=NULL;\n",
        "   lista->next=tmp;\n",
        "   lista=lista->next;\n",
        "}\n",
        "\n",
        "int main(){\n",
        "\n",
        "    char* nombre = \"juan\";\n",
        "    int edad = 20;\n",
        "    char* enfermedades = \"covid\";\n",
        "\n",
        "    lista=(paciente *) malloc(sizeof(paciente));\n",
        "    \n",
        "    lista->edad=edad;\n",
        "    strcpy(lista->enfermedades,enfermedades);\n",
        " \n",
        "    strcpy(lista->nombre, nombre);\n",
        "    paciente *head=lista;\n",
        "\n",
        "    agrega_paciente(\"Pascale\", 15, \"asma\");\n",
        "    agrega_paciente(\"Alex\", 35, \"tos\");\n",
        " \n",
        "    paciente *iter=head;\n",
        "    while(iter !=NULL){\n",
        "      printf(\"%s %d %s\\n\",iter->nombre, iter->edad, iter->enfermedades);\n",
        "      iter=iter->next;\n",
        "    }\n",
        "\n",
        "    return 0;\n",
        "\n",
        "}\n"
      ],
      "metadata": {
        "colab": {
          "base_uri": "https://localhost:8080/"
        },
        "id": "iizMrBwUnCkF",
        "outputId": "8102219b-9375-41ee-aca8-22a710b209c5"
      },
      "execution_count": 58,
      "outputs": [
        {
          "output_type": "stream",
          "name": "stdout",
          "text": [
            "Overwriting ej7.c\n"
          ]
        }
      ]
    },
    {
      "cell_type": "code",
      "source": [
        "%%script bash\n",
        "\n",
        "gcc ej7.c -o ej7"
      ],
      "metadata": {
        "id": "GgPAx_w3z31I"
      },
      "execution_count": 59,
      "outputs": []
    },
    {
      "cell_type": "code",
      "source": [
        "!./ej7"
      ],
      "metadata": {
        "colab": {
          "base_uri": "https://localhost:8080/"
        },
        "id": "tXRpP26v3BhH",
        "outputId": "846ff632-605e-427a-e2be-abd2d346168f"
      },
      "execution_count": 60,
      "outputs": [
        {
          "output_type": "stream",
          "name": "stdout",
          "text": [
            "juan 20 covid\n",
            "Pascale 15 asma\n",
            "Alex 35 tos\n"
          ]
        }
      ]
    },
    {
      "cell_type": "markdown",
      "source": [
        "8. Dado el siguiente codigo, explique que hace la siguiente función:"
      ],
      "metadata": {
        "id": "x02xb4DDlZ8c"
      }
    },
    {
      "cell_type": "code",
      "source": [
        "%%writefile ej8.c\n",
        "\n",
        "#include <stdio.h>\n",
        "#include <string.h>\n",
        "#include <stdlib.h>\n",
        "\n",
        "int misterio(int x, int y)\n",
        "{\n",
        "    while (y != 0)\n",
        "    {\n",
        "\n",
        "        unsigned carry = x & y; \n",
        "        x = x ^ y;\n",
        "        y = carry << 1;\n",
        "    }\n",
        "    return x;\n",
        "}\n",
        "\n",
        "int main(){\n",
        "  int a = 15;\n",
        "  int b = 10;\n",
        "  printf(\"misterio result: %d\", misterio(a,b));\n",
        "\n",
        "}"
      ],
      "metadata": {
        "colab": {
          "base_uri": "https://localhost:8080/"
        },
        "id": "MY5aMUpFAEMT",
        "outputId": "5a0ad812-2a61-41dd-899e-eb86d8df9321"
      },
      "execution_count": 64,
      "outputs": [
        {
          "output_type": "stream",
          "name": "stdout",
          "text": [
            "Overwriting ej8.c\n"
          ]
        }
      ]
    },
    {
      "cell_type": "code",
      "source": [
        "%%script bash\n",
        "\n",
        "gcc ej8.c -o ej8"
      ],
      "metadata": {
        "id": "lUD2pSGb3peH"
      },
      "execution_count": 65,
      "outputs": []
    },
    {
      "cell_type": "code",
      "source": [
        "!./ej8"
      ],
      "metadata": {
        "colab": {
          "base_uri": "https://localhost:8080/"
        },
        "id": "Q3F4u-Lu3r9s",
        "outputId": "9920987e-ef31-44d8-a464-17fa4c5125d5"
      },
      "execution_count": 66,
      "outputs": [
        {
          "output_type": "stream",
          "name": "stdout",
          "text": [
            "misterio result: 25"
          ]
        }
      ]
    },
    {
      "cell_type": "markdown",
      "source": [
        "suma dos numeros con operaciones de bits."
      ],
      "metadata": {
        "id": "jlb-x-Aed3Yv"
      }
    },
    {
      "cell_type": "markdown",
      "source": [
        "9. Escriba una función en C que calcule el largo de un string usando punteros:"
      ],
      "metadata": {
        "id": "Vdj7-taj34TF"
      }
    },
    {
      "cell_type": "code",
      "source": [
        "%%writefile ej9.c\n",
        "\n",
        "#include <stdio.h>\n",
        "\n",
        "int calcula_largo(char* ch)\n",
        "{\n",
        "   int ctr = 0;\n",
        "   while (*ch != '\\0') //sabemos que el arreglo de punteros termina con un \\0 avanzara hasta que termine\n",
        "   {\n",
        "      ctr++;//avanza el contador de posicion\n",
        "      ch++;//avanza la posicion del arreglo puntero\n",
        "   }\n",
        "   return ctr;\n",
        "}\n",
        " \n",
        "void main() \n",
        "{\n",
        "   char str1[50]=\"paralelepipedo\";\n",
        "   int l;\n",
        "   \n",
        "   l = calcula_largo(str1);\n",
        "   printf(\" El largo del string %s is : %d \", str1, l-1);\n",
        "   printf(\"\\n\\n\");\n",
        "\n",
        "}\n",
        " \n"
      ],
      "metadata": {
        "colab": {
          "base_uri": "https://localhost:8080/"
        },
        "id": "PL6SAQMd4GM1",
        "outputId": "3c16ede8-49a1-4051-97c1-eb6f915e36c0"
      },
      "execution_count": 76,
      "outputs": [
        {
          "output_type": "stream",
          "name": "stdout",
          "text": [
            "Overwriting ej9.c\n"
          ]
        }
      ]
    },
    {
      "cell_type": "code",
      "source": [
        "%%script bash\n",
        "\n",
        "gcc ej9.c -o ej9"
      ],
      "metadata": {
        "id": "cpCnHyKR5MCN"
      },
      "execution_count": 77,
      "outputs": []
    },
    {
      "cell_type": "code",
      "source": [
        "!./ej9"
      ],
      "metadata": {
        "colab": {
          "base_uri": "https://localhost:8080/"
        },
        "id": "4pY5zyJZ5cUx",
        "outputId": "e186dcb4-b662-4920-87e3-f92612f88680"
      },
      "execution_count": 78,
      "outputs": [
        {
          "output_type": "stream",
          "name": "stdout",
          "text": [
            " El largo del string paralelepipedo is : 13 \n",
            "\n"
          ]
        }
      ]
    },
    {
      "cell_type": "markdown",
      "source": [
        "10. Escriba una funcion en C que sume un 1 dado un número entero, usando operaciones aritméticas (no incrementar directamente con un +1):"
      ],
      "metadata": {
        "id": "gnLQJiDR5p5E"
      }
    },
    {
      "cell_type": "code",
      "source": [
        "%%writefile ej10.c\n",
        "\n",
        "#include <stdio.h>\n",
        "\n",
        "int addOne(int x)\n",
        "{\n",
        "\tint m = 1;// 00000001\n",
        "\t\n",
        "\t// revisa cada bit hasta que encuentra un 0\n",
        "\twhile( x & m )\n",
        "\t{\n",
        "\t\tx = x ^ m;\n",
        "\t\tm <<= 1;\n",
        "\t}\n",
        "\t\n",
        "\t// flip the rightmost 0 bit\n",
        "\tx = x ^ m;\n",
        "\treturn x;\n",
        "}\n",
        "\n",
        "\n",
        "int main()\n",
        "{\n",
        "\tprintf(\"%d\", addOne(13));\n",
        "\treturn 0;\n",
        "}"
      ],
      "metadata": {
        "colab": {
          "base_uri": "https://localhost:8080/"
        },
        "id": "drtxVXQJ53nF",
        "outputId": "d4a8c809-3433-4ae7-a27c-b3a15cd9c517"
      },
      "execution_count": 80,
      "outputs": [
        {
          "output_type": "stream",
          "name": "stdout",
          "text": [
            "Writing ej10.c\n"
          ]
        }
      ]
    },
    {
      "cell_type": "code",
      "source": [
        "%%writefile ej10.c\n",
        "\n",
        "#include <stdio.h>\n",
        "\n",
        "int addOne(int n)\n",
        "{\n",
        "\tint x;\n",
        "  int resultado;\n",
        "\t\n",
        "\t// revisa cada bit hasta que encuentra un 0\n",
        "  for(int x=0; x>=0; x--){\n",
        "      if (x<<1|n){\n",
        "        printf(\"1\");\n",
        "      }\n",
        "      resultado +=1;\n",
        "  }\n",
        "  return resultado;\n",
        "}\n",
        "\n",
        "int main()\n",
        "{\n",
        "\tprintf(\"%d\", addOne(13));\n",
        "\treturn 0;\n",
        "}"
      ],
      "metadata": {
        "colab": {
          "base_uri": "https://localhost:8080/"
        },
        "id": "hdOxwgGnBJa4",
        "outputId": "d272e06c-6660-4c96-81cf-31aacb6bcbfc"
      },
      "execution_count": 92,
      "outputs": [
        {
          "output_type": "stream",
          "name": "stdout",
          "text": [
            "Overwriting ej10.c\n"
          ]
        }
      ]
    },
    {
      "cell_type": "code",
      "source": [
        "%%script bash\n",
        "\n",
        "gcc ej10.c -o ej10"
      ],
      "metadata": {
        "id": "-IR4g40y6RIR"
      },
      "execution_count": 93,
      "outputs": []
    },
    {
      "cell_type": "code",
      "source": [
        "!./ej10"
      ],
      "metadata": {
        "colab": {
          "base_uri": "https://localhost:8080/"
        },
        "id": "FaeZYve46Tjy",
        "outputId": "87cde9b8-9733-4232-cb94-d018ae3558da"
      },
      "execution_count": 94,
      "outputs": [
        {
          "output_type": "stream",
          "name": "stdout",
          "text": [
            "1-1279261311"
          ]
        }
      ]
    },
    {
      "cell_type": "markdown",
      "source": [
        "11. Defina una estructura en C de lista enlazada que se conecte a 2 nodos:"
      ],
      "metadata": {
        "id": "tekOsOhw76SZ"
      }
    },
    {
      "cell_type": "code",
      "source": [
        "struct node {\n",
        "    int valor;\n",
        "    struct node *left;\n",
        "    struct node *right;\n",
        "};"
      ],
      "metadata": {
        "id": "Nn9d-fXC8DzL"
      },
      "execution_count": null,
      "outputs": []
    },
    {
      "cell_type": "markdown",
      "source": [
        "12. Dado el siguiente código, implemente la función add_person()"
      ],
      "metadata": {
        "id": "BT7JvmTx8GBM"
      }
    },
    {
      "cell_type": "code",
      "source": [
        "%%writefile ej12.c\n",
        "\n",
        "#include <stdio.h>\n",
        "#include <string.h>\n",
        "#include <stdlib.h>\n",
        "\n",
        "\n",
        "typedef struct persona  {\n",
        "  char nombre[50];\n",
        "  int rut;\n",
        "  float salario;\n",
        " struct persona *next;\n",
        "}persona;\n",
        "\n",
        "\n",
        " persona *lista; \n",
        "\n",
        "\n",
        "void add_person(int rut,float salario, char* nombre ){\n",
        "\n",
        "   persona *tmp=(persona *) malloc(sizeof(persona));\n",
        "   tmp->rut=rut;\n",
        "   tmp->salario=salario;\n",
        "   strcpy(tmp->nombre, nombre);\n",
        "\n",
        "  tmp->next=NULL;\n",
        "   lista->next=tmp;\n",
        "   lista=lista->next;\n",
        "}\n",
        "\n",
        "int main() {\n",
        "  \n",
        "  \n",
        "  int rut=15906713-0;\n",
        "  float salario=250000.00;\n",
        "  char *nombre=\"Estaban carrasco\";\n",
        "  //inicializamos lista\n",
        " lista=(persona *) malloc(sizeof(persona));\n",
        " lista->rut=rut;\n",
        " lista->salario=salario;\n",
        " \n",
        " strcpy(lista->nombre, nombre);\n",
        " //printf(\"%s %d %f\\n\",lista->nombre, lista->rut, lista->salario);\n",
        " persona *head=lista;\n",
        " \n",
        " add_person(16459952, 5245.00, \"Pascale Carrasco\");\n",
        " add_person(16459952, 5245.00, \"Carol Moraga\");\n",
        " add_person(16459952, 5245.00, \"Jorge Moraga\");\n",
        "\n",
        "persona *iter=head;\n",
        "  while(iter !=NULL){\n",
        "      printf(\"%s %d %f\\n\",iter->nombre, iter->rut, iter->salario);\n",
        "      iter=iter->next;\n",
        "  }\n",
        "\n",
        "  return 0;\n",
        "}"
      ],
      "metadata": {
        "colab": {
          "base_uri": "https://localhost:8080/"
        },
        "id": "BvBQ9Epi8XYl",
        "outputId": "c7041af3-5f9d-4efe-e9ec-bd84b82df99d"
      },
      "execution_count": 86,
      "outputs": [
        {
          "output_type": "stream",
          "name": "stdout",
          "text": [
            "Overwriting ej12.c\n"
          ]
        }
      ]
    },
    {
      "cell_type": "code",
      "source": [
        "%%script bash\n",
        "\n",
        "gcc ej12.c -o ej12"
      ],
      "metadata": {
        "id": "e9hk0qbR8eA2"
      },
      "execution_count": 87,
      "outputs": []
    },
    {
      "cell_type": "code",
      "source": [
        "!./ej12"
      ],
      "metadata": {
        "colab": {
          "base_uri": "https://localhost:8080/"
        },
        "id": "vPG6QYix8gjD",
        "outputId": "eed96bbe-d0bd-4f9e-b32d-72b67e24d811"
      },
      "execution_count": 88,
      "outputs": [
        {
          "output_type": "stream",
          "name": "stdout",
          "text": [
            "Estaban carrasco 15906713 250000.000000\n",
            "Pascale Carrasco 16459952 5245.000000\n",
            "Carol Moraga 16459952 5245.000000\n",
            "Jorge Moraga 16459952 5245.000000\n"
          ]
        }
      ]
    },
    {
      "cell_type": "markdown",
      "source": [
        "13. Escriba una función en C que retorne el numero de bits encendidos al almacenar un número entero positivo:"
      ],
      "metadata": {
        "id": "uv_F6gTp8xR_"
      }
    },
    {
      "cell_type": "code",
      "source": [
        "%%writefile ej2.c\n",
        "\n",
        "#include <stdio.h>\n",
        "\n",
        "void getbinary(int n)\n",
        "{\n",
        "\t int y;\n",
        "\tfor(y=31; y>=0; y--)\n",
        "  {\n",
        "    if( (1 << y) & n)//1000000000000000 & n \n",
        "      printf(\"1\");\n",
        "    else\n",
        "      printf(\"0\");\n",
        "  }\n",
        "}\n",
        "\n",
        "int cuentabit(int n)\n",
        "{\n",
        "\tint cont=0,i;\n",
        "  \n",
        "  if(n==0) return 0;\n",
        "  unsigned int j;\n",
        "  for(i=0; i< 32; i++)\n",
        "  {  \n",
        "\t\tprintf(\"\\n\");\n",
        "    if( (1 << i) & n)\n",
        "      cont=i+1;\n",
        "  }\n",
        "  return cont;\n",
        "}\n",
        "\n",
        "int main()\n",
        "{\n",
        "\tint num=5;//pueden declararlo al inicio o recibirlo por la función scanf\n",
        "\t//printf(\"Ingresa un numero entero :\");\n",
        "\t//scanf(\"%d\",&num);\n",
        "\n",
        "\tprintf(\"Total de numeros requeridos = %d\\n\",cuentabit(num));\n",
        "\treturn 0;\n",
        "}"
      ],
      "metadata": {
        "id": "uF5751O99KR7"
      },
      "execution_count": null,
      "outputs": []
    },
    {
      "cell_type": "markdown",
      "source": [
        "aqui vamos!"
      ],
      "metadata": {
        "id": "LLufvZV_8ZlT"
      }
    }
  ]
}